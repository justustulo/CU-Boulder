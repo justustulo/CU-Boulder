{
 "cells": [
  {
   "cell_type": "markdown",
   "metadata": {},
   "source": [
    "Justus Tulowiecki"
   ]
  },
  {
   "cell_type": "markdown",
   "metadata": {},
   "source": [
    "Importing necessary libraries."
   ]
  },
  {
   "cell_type": "code",
   "execution_count": 1,
   "metadata": {},
   "outputs": [],
   "source": [
    "import pandas as pd\n",
    "import numpy as np\n",
    "import pandas_profiling\n",
    "import matplotlib.pyplot as plt\n",
    "import sklearn.preprocessing\n",
    "from sklearn.linear_model import LogisticRegression\n",
    "from sklearn.model_selection import train_test_split\n",
    "from sklearn.metrics import accuracy_score\n",
    "from sklearn.model_selection import cross_val_score, RandomizedSearchCV , GridSearchCV\n",
    "from sklearn.preprocessing import LabelEncoder, RobustScaler, MinMaxScaler, StandardScaler\n",
    "from scipy.special import boxcox, boxcox1p\n",
    "import scipy.stats as ss\n",
    "from xgboost import XGBClassifier\n",
    "from sklearn.ensemble import RandomForestRegressor, AdaBoostClassifier,StackingClassifier\n",
    "from sklearn import svm\n",
    "from sklearn.linear_model import Ridge\n",
    "from sklearn.metrics import mean_squared_error as MSE\n",
    "from sklearn.feature_selection import SelectKBest,chi2, RFE\n",
    "import seaborn as sns\n",
    "from lightgbm import LGBMClassifier\n",
    "\n",
    "from IPython.core.interactiveshell import InteractiveShell #allows us to see multiple outputs without having to use the print function"
   ]
  },
  {
   "cell_type": "markdown",
   "metadata": {},
   "source": [
    "Loading in the training and testing data. I did some minor exploration in excel since the data didn't have too many rows/features to see if there would be any issues when loading the data."
   ]
  },
  {
   "cell_type": "code",
   "execution_count": 2,
   "metadata": {},
   "outputs": [],
   "source": [
    "names = ['age', 'workclass', 'fnlwgt', 'education', 'education-num','marital-status','occupation','relationship', 'race', 'sex', 'capital-gain:', 'capital-loss', 'hours-per-week-','native-country']\n",
    "\n",
    "train = pd.read_csv('train-features.csv', names = names, na_values = ['?', ' ?', '? '])\n",
    "test = pd.read_csv('test-features.csv', names = names, na_values = ['?', ' ?', '? '])\n",
    "train_label = pd.read_csv('train-output.csv', names=['Income'])\n",
    "\n",
    "train_len = len(train)\n",
    "test_len = len(test)\n",
    "\n",
    "X = pd.concat([train, test]) #combine train and test"
   ]
  },
  {
   "cell_type": "markdown",
   "metadata": {},
   "source": [
    "Verifying that columns were read in correctly. Additionally, looking at column types and if there are any missing values."
   ]
  },
  {
   "cell_type": "code",
   "execution_count": 3,
   "metadata": {},
   "outputs": [
    {
     "name": "stdout",
     "output_type": "stream",
     "text": [
      "<class 'pandas.core.frame.DataFrame'>\n",
      "RangeIndex: 32561 entries, 0 to 32560\n",
      "Data columns (total 14 columns):\n",
      "age                32561 non-null int64\n",
      "workclass          30725 non-null object\n",
      "fnlwgt             32561 non-null int64\n",
      "education          32561 non-null object\n",
      "education-num      32561 non-null int64\n",
      "marital-status     32561 non-null object\n",
      "occupation         30718 non-null object\n",
      "relationship       32561 non-null object\n",
      "race               32561 non-null object\n",
      "sex                32561 non-null object\n",
      "capital-gain:      32561 non-null int64\n",
      "capital-loss       32561 non-null int64\n",
      "hours-per-week-    32561 non-null int64\n",
      "native-country     31978 non-null object\n",
      "dtypes: int64(6), object(8)\n",
      "memory usage: 3.5+ MB\n",
      "Total length of train and test is: 48842\n"
     ]
    }
   ],
   "source": [
    "train.info()\n",
    "print('Total length of train and test is:', train_len+test_len)"
   ]
  },
  {
   "cell_type": "markdown",
   "metadata": {},
   "source": [
    "Taking a look at the first few rows of the data."
   ]
  },
  {
   "cell_type": "code",
   "execution_count": 4,
   "metadata": {},
   "outputs": [
    {
     "data": {
      "text/html": [
       "<div>\n",
       "<style scoped>\n",
       "    .dataframe tbody tr th:only-of-type {\n",
       "        vertical-align: middle;\n",
       "    }\n",
       "\n",
       "    .dataframe tbody tr th {\n",
       "        vertical-align: top;\n",
       "    }\n",
       "\n",
       "    .dataframe thead th {\n",
       "        text-align: right;\n",
       "    }\n",
       "</style>\n",
       "<table border=\"1\" class=\"dataframe\">\n",
       "  <thead>\n",
       "    <tr style=\"text-align: right;\">\n",
       "      <th></th>\n",
       "      <th>age</th>\n",
       "      <th>workclass</th>\n",
       "      <th>fnlwgt</th>\n",
       "      <th>education</th>\n",
       "      <th>education-num</th>\n",
       "      <th>marital-status</th>\n",
       "      <th>occupation</th>\n",
       "      <th>relationship</th>\n",
       "      <th>race</th>\n",
       "      <th>sex</th>\n",
       "      <th>capital-gain:</th>\n",
       "      <th>capital-loss</th>\n",
       "      <th>hours-per-week-</th>\n",
       "      <th>native-country</th>\n",
       "    </tr>\n",
       "  </thead>\n",
       "  <tbody>\n",
       "    <tr>\n",
       "      <th>0</th>\n",
       "      <td>39</td>\n",
       "      <td>State-gov</td>\n",
       "      <td>77516</td>\n",
       "      <td>Bachelors</td>\n",
       "      <td>13</td>\n",
       "      <td>Never-married</td>\n",
       "      <td>Adm-clerical</td>\n",
       "      <td>Not-in-family</td>\n",
       "      <td>White</td>\n",
       "      <td>Male</td>\n",
       "      <td>2174</td>\n",
       "      <td>0</td>\n",
       "      <td>40</td>\n",
       "      <td>United-States</td>\n",
       "    </tr>\n",
       "    <tr>\n",
       "      <th>1</th>\n",
       "      <td>50</td>\n",
       "      <td>Self-emp-not-inc</td>\n",
       "      <td>83311</td>\n",
       "      <td>Bachelors</td>\n",
       "      <td>13</td>\n",
       "      <td>Married-civ-spouse</td>\n",
       "      <td>Exec-managerial</td>\n",
       "      <td>Husband</td>\n",
       "      <td>White</td>\n",
       "      <td>Male</td>\n",
       "      <td>0</td>\n",
       "      <td>0</td>\n",
       "      <td>13</td>\n",
       "      <td>United-States</td>\n",
       "    </tr>\n",
       "    <tr>\n",
       "      <th>2</th>\n",
       "      <td>38</td>\n",
       "      <td>Private</td>\n",
       "      <td>215646</td>\n",
       "      <td>HS-grad</td>\n",
       "      <td>9</td>\n",
       "      <td>Divorced</td>\n",
       "      <td>Handlers-cleaners</td>\n",
       "      <td>Not-in-family</td>\n",
       "      <td>White</td>\n",
       "      <td>Male</td>\n",
       "      <td>0</td>\n",
       "      <td>0</td>\n",
       "      <td>40</td>\n",
       "      <td>United-States</td>\n",
       "    </tr>\n",
       "    <tr>\n",
       "      <th>3</th>\n",
       "      <td>53</td>\n",
       "      <td>Private</td>\n",
       "      <td>234721</td>\n",
       "      <td>11th</td>\n",
       "      <td>7</td>\n",
       "      <td>Married-civ-spouse</td>\n",
       "      <td>Handlers-cleaners</td>\n",
       "      <td>Husband</td>\n",
       "      <td>Black</td>\n",
       "      <td>Male</td>\n",
       "      <td>0</td>\n",
       "      <td>0</td>\n",
       "      <td>40</td>\n",
       "      <td>United-States</td>\n",
       "    </tr>\n",
       "    <tr>\n",
       "      <th>4</th>\n",
       "      <td>28</td>\n",
       "      <td>Private</td>\n",
       "      <td>338409</td>\n",
       "      <td>Bachelors</td>\n",
       "      <td>13</td>\n",
       "      <td>Married-civ-spouse</td>\n",
       "      <td>Prof-specialty</td>\n",
       "      <td>Wife</td>\n",
       "      <td>Black</td>\n",
       "      <td>Female</td>\n",
       "      <td>0</td>\n",
       "      <td>0</td>\n",
       "      <td>40</td>\n",
       "      <td>Cuba</td>\n",
       "    </tr>\n",
       "  </tbody>\n",
       "</table>\n",
       "</div>"
      ],
      "text/plain": [
       "   age          workclass  fnlwgt   education  education-num  \\\n",
       "0   39          State-gov   77516   Bachelors             13   \n",
       "1   50   Self-emp-not-inc   83311   Bachelors             13   \n",
       "2   38            Private  215646     HS-grad              9   \n",
       "3   53            Private  234721        11th              7   \n",
       "4   28            Private  338409   Bachelors             13   \n",
       "\n",
       "        marital-status          occupation    relationship    race      sex  \\\n",
       "0        Never-married        Adm-clerical   Not-in-family   White     Male   \n",
       "1   Married-civ-spouse     Exec-managerial         Husband   White     Male   \n",
       "2             Divorced   Handlers-cleaners   Not-in-family   White     Male   \n",
       "3   Married-civ-spouse   Handlers-cleaners         Husband   Black     Male   \n",
       "4   Married-civ-spouse      Prof-specialty            Wife   Black   Female   \n",
       "\n",
       "   capital-gain:  capital-loss  hours-per-week-  native-country  \n",
       "0           2174             0               40   United-States  \n",
       "1              0             0               13   United-States  \n",
       "2              0             0               40   United-States  \n",
       "3              0             0               40   United-States  \n",
       "4              0             0               40            Cuba  "
      ]
     },
     "execution_count": 4,
     "metadata": {},
     "output_type": "execute_result"
    }
   ],
   "source": [
    "X.head()"
   ]
  },
  {
   "cell_type": "markdown",
   "metadata": {},
   "source": [
    "Education number is categorical, so we must change the column type. Next, I will look at a simple summary of the data."
   ]
  },
  {
   "cell_type": "code",
   "execution_count": 24,
   "metadata": {},
   "outputs": [
    {
     "data": {
      "text/html": [
       "<div>\n",
       "<style scoped>\n",
       "    .dataframe tbody tr th:only-of-type {\n",
       "        vertical-align: middle;\n",
       "    }\n",
       "\n",
       "    .dataframe tbody tr th {\n",
       "        vertical-align: top;\n",
       "    }\n",
       "\n",
       "    .dataframe thead th {\n",
       "        text-align: right;\n",
       "    }\n",
       "</style>\n",
       "<table border=\"1\" class=\"dataframe\">\n",
       "  <thead>\n",
       "    <tr style=\"text-align: right;\">\n",
       "      <th></th>\n",
       "      <th>age</th>\n",
       "      <th>capital-gain:</th>\n",
       "      <th>capital-loss</th>\n",
       "      <th>hours-per-week-</th>\n",
       "      <th>is_white</th>\n",
       "      <th>23/older</th>\n",
       "      <th>Full-Time</th>\n",
       "      <th>ednum-grtr-12</th>\n",
       "      <th>hrs-sq</th>\n",
       "    </tr>\n",
       "  </thead>\n",
       "  <tbody>\n",
       "    <tr>\n",
       "      <th>count</th>\n",
       "      <td>48842.00</td>\n",
       "      <td>48842.00</td>\n",
       "      <td>48842.0</td>\n",
       "      <td>48842.00</td>\n",
       "      <td>48842.00</td>\n",
       "      <td>48842.00</td>\n",
       "      <td>48842.00</td>\n",
       "      <td>48842.00</td>\n",
       "      <td>48842.00</td>\n",
       "    </tr>\n",
       "    <tr>\n",
       "      <th>mean</th>\n",
       "      <td>38.64</td>\n",
       "      <td>1079.07</td>\n",
       "      <td>87.5</td>\n",
       "      <td>40.42</td>\n",
       "      <td>0.86</td>\n",
       "      <td>0.88</td>\n",
       "      <td>0.76</td>\n",
       "      <td>0.55</td>\n",
       "      <td>41.34</td>\n",
       "    </tr>\n",
       "    <tr>\n",
       "      <th>std</th>\n",
       "      <td>13.71</td>\n",
       "      <td>7452.02</td>\n",
       "      <td>403.0</td>\n",
       "      <td>12.39</td>\n",
       "      <td>0.35</td>\n",
       "      <td>0.33</td>\n",
       "      <td>0.43</td>\n",
       "      <td>0.50</td>\n",
       "      <td>12.43</td>\n",
       "    </tr>\n",
       "    <tr>\n",
       "      <th>min</th>\n",
       "      <td>17.00</td>\n",
       "      <td>0.00</td>\n",
       "      <td>0.0</td>\n",
       "      <td>1.00</td>\n",
       "      <td>0.00</td>\n",
       "      <td>0.00</td>\n",
       "      <td>0.00</td>\n",
       "      <td>0.00</td>\n",
       "      <td>0.00</td>\n",
       "    </tr>\n",
       "    <tr>\n",
       "      <th>25%</th>\n",
       "      <td>28.00</td>\n",
       "      <td>0.00</td>\n",
       "      <td>0.0</td>\n",
       "      <td>40.00</td>\n",
       "      <td>1.00</td>\n",
       "      <td>1.00</td>\n",
       "      <td>1.00</td>\n",
       "      <td>0.00</td>\n",
       "      <td>41.00</td>\n",
       "    </tr>\n",
       "    <tr>\n",
       "      <th>50%</th>\n",
       "      <td>37.00</td>\n",
       "      <td>0.00</td>\n",
       "      <td>0.0</td>\n",
       "      <td>40.00</td>\n",
       "      <td>1.00</td>\n",
       "      <td>1.00</td>\n",
       "      <td>1.00</td>\n",
       "      <td>1.00</td>\n",
       "      <td>42.00</td>\n",
       "    </tr>\n",
       "    <tr>\n",
       "      <th>75%</th>\n",
       "      <td>48.00</td>\n",
       "      <td>0.00</td>\n",
       "      <td>0.0</td>\n",
       "      <td>45.00</td>\n",
       "      <td>1.00</td>\n",
       "      <td>1.00</td>\n",
       "      <td>1.00</td>\n",
       "      <td>1.00</td>\n",
       "      <td>47.00</td>\n",
       "    </tr>\n",
       "    <tr>\n",
       "      <th>max</th>\n",
       "      <td>90.00</td>\n",
       "      <td>99999.00</td>\n",
       "      <td>4356.0</td>\n",
       "      <td>99.00</td>\n",
       "      <td>1.00</td>\n",
       "      <td>1.00</td>\n",
       "      <td>1.00</td>\n",
       "      <td>1.00</td>\n",
       "      <td>99.00</td>\n",
       "    </tr>\n",
       "  </tbody>\n",
       "</table>\n",
       "</div>"
      ],
      "text/plain": [
       "            age  capital-gain:  capital-loss  hours-per-week-  is_white  \\\n",
       "count  48842.00       48842.00       48842.0         48842.00  48842.00   \n",
       "mean      38.64        1079.07          87.5            40.42      0.86   \n",
       "std       13.71        7452.02         403.0            12.39      0.35   \n",
       "min       17.00           0.00           0.0             1.00      0.00   \n",
       "25%       28.00           0.00           0.0            40.00      1.00   \n",
       "50%       37.00           0.00           0.0            40.00      1.00   \n",
       "75%       48.00           0.00           0.0            45.00      1.00   \n",
       "max       90.00       99999.00        4356.0            99.00      1.00   \n",
       "\n",
       "       23/older  Full-Time  ednum-grtr-12    hrs-sq  \n",
       "count  48842.00   48842.00       48842.00  48842.00  \n",
       "mean       0.88       0.76           0.55     41.34  \n",
       "std        0.33       0.43           0.50     12.43  \n",
       "min        0.00       0.00           0.00      0.00  \n",
       "25%        1.00       1.00           0.00     41.00  \n",
       "50%        1.00       1.00           1.00     42.00  \n",
       "75%        1.00       1.00           1.00     47.00  \n",
       "max        1.00       1.00           1.00     99.00  "
      ]
     },
     "execution_count": 24,
     "metadata": {},
     "output_type": "execute_result"
    }
   ],
   "source": [
    "X['education-num'] = X['education-num'].astype('object')\n",
    "round(X.describe(),2)"
   ]
  },
  {
   "cell_type": "markdown",
   "metadata": {},
   "source": [
    "Using Pandas Profiling to perform a quick EDA. "
   ]
  },
  {
   "cell_type": "code",
   "execution_count": null,
   "metadata": {},
   "outputs": [],
   "source": [
    "datacs_profile = pandas_profiling.ProfileReport(X)\n",
    "datacs_profile"
   ]
  },
  {
   "cell_type": "markdown",
   "metadata": {},
   "source": [
    "Feature engineering:\n",
    "The following section was updated iteratively to experiment with what features worked or not based off of the final model performance. Education was dropped as it was a duplicate field of the education-num feature. I filled the NA in native country with United States as it was the most common. Education was dropped as it is a duplicate feature.\n",
    "\n",
    "I filled the native country with United States as it was the most common in the dataset. I decided to keep missing values in other features, like workclass and occupation as their own class of \"Unknown\". When it came to feature engineering, I tested various feature transformations but the following resulted in the best success. I dropped fnlwgt as it showed no correlation to our response variable."
   ]
  },
  {
   "cell_type": "code",
   "execution_count": 6,
   "metadata": {},
   "outputs": [],
   "source": [
    "X['native-country'].fillna('United-States', inplace=True)\n",
    "X['workclass'].fillna('Unknown', inplace=True)\n",
    "X['occupation'].fillna('Unknown', inplace=True)\n",
    "X['is_white'] = X['race'].apply(lambda x: 1 if str.strip(x) == 'White' else 0)\n",
    "X['23/older'] = X['age'].apply(lambda x: 1 if x > 22 else 0)\n",
    "X['Full-Time'] = X['hours-per-week-'].apply(lambda x: 1 if x>39 else 0)\n",
    "X['ednum-grtr-12'] = X['education-num'].apply(lambda x: 1 if x > 9 else 0)\n",
    "X['hrs-sq'] = X['hours-per-week-'].apply(lambda x: x^2)\n",
    "X.drop('education', axis='columns', inplace=True) #duplicate field for eduction-num\n",
    "X.drop(['fnlwgt'], inplace=True, axis='columns')"
   ]
  },
  {
   "cell_type": "markdown",
   "metadata": {},
   "source": [
    "This section gets dummy variables for the categorical variables. After variables have been encoded, a boxcox transformation is applied where ss.boxcox_normmax is used to find the optimal parameter to fit the feature to a normal distribution. Boxcox1p is used since data must be strictly greater than 0. After data is transformed, it is scaled."
   ]
  },
  {
   "cell_type": "code",
   "execution_count": 28,
   "metadata": {},
   "outputs": [
    {
     "data": {
      "text/plain": [
       "dtype('O')"
      ]
     },
     "execution_count": 28,
     "metadata": {},
     "output_type": "execute_result"
    }
   ],
   "source": [
    "X['workclass'].dtype"
   ]
  },
  {
   "cell_type": "code",
   "execution_count": null,
   "metadata": {},
   "outputs": [],
   "source": [
    "X = pd.get_dummies(X).reset_index(drop=True)\n",
    "\n",
    "\n",
    "for i in range(X.shape[1]):\n",
    "    if\n",
    "    X.iloc[:,i] = boxcox1p(X.iloc[:,i], ss.boxcox_normmax(X.iloc[:,i]+1))\n",
    "\n",
    "scaler = RobustScaler()\n",
    "X = pd.DataFrame(scaler.fit_transform(X), columns=X.columns)\n"
   ]
  },
  {
   "cell_type": "code",
   "execution_count": null,
   "metadata": {},
   "outputs": [],
   "source": [
    "train_feat = X[:train_len]\n",
    "print(train_feat.shape)\n",
    "\n",
    "test_feat = X[train_len:]\n",
    "print(test_feat.shape)"
   ]
  },
  {
   "cell_type": "code",
   "execution_count": null,
   "metadata": {},
   "outputs": [],
   "source": [
    "xgbc = XGBClassifier(max_depth=5)\n",
    "xgbc.fit(train_feat, train_label.values.ravel())\n",
    "y_pred_xgb = xgbc.predict(test_feat)\n",
    "y_pred_train = xgbc.predict(train_feat)\n",
    "\n",
    "cvs_xgb = cross_val_score(xgbc,train_feat, train_label.values.ravel(), cv=5)\n",
    "\n",
    "print('Cross-val-score for train data', cvs_xgb)\n",
    "print('Average cross-val-score for train data', cvs_xgb.mean())\n",
    "\n",
    "submit = pd.read_csv('submission.csv')\n",
    "submit.iloc[:,-1] = y_pred_xgb\n",
    "submit.to_csv('XGB_Submission.csv', index=False)\n",
    "\n",
    "importances_xgb = pd.Series(data=xgbc.feature_importances_,\n",
    "                        index= train_feat.columns)\n",
    "importances_xgb = importances_xgb.sort_values(ascending=False)[:20]\n",
    "sns.barplot(x=importances_xgb.index, y=importances_xgb)\n",
    "plt.xticks(rotation=90)\n",
    "plt.show()\n"
   ]
  },
  {
   "cell_type": "markdown",
   "metadata": {},
   "source": [
    "Tuning actually resulted in worse scores and overfitting, so I kept with default model parameters. Other algorithms were able to achieve similar results, namely LightGBM and Adaboost. I tested many classification algorithms including random forest, naive bayes, and logistic regression but the results were much worse than the models that utilized boosting. XGBoost had the best cross-val-scores and the best score when submitted to kaggle. Additionally, I tried a stacking method which used LightGBM, Adaboost, and XGBoost. Interestingly this  resulted in a worse score than just using XGBoost alone."
   ]
  },
  {
   "cell_type": "code",
   "execution_count": null,
   "metadata": {},
   "outputs": [],
   "source": [
    "'''params_xgb = {\n",
    "            'learning_rate': [ 0.01, 0.05, 0.1],\n",
    "            'n_estimators': [1000, 1500, 3000],\n",
    "            'max_depth' : [3, 4, 5, 7],\n",
    "            'subsample': [0.7, 0.8, 0.9],\n",
    "            'colsample_bytree': [0.4, 0.6, 0.8],\n",
    "}\n",
    "\n",
    "grid_xgb = GridSearchCV(estimator=xgbc,\n",
    "                       param_grid=params_xgb,\n",
    "                        #n_iter=5,\n",
    "                       cv=5,\n",
    "                        error_score='accuracy',\n",
    "                        verbose=1,\n",
    "                       n_jobs=5\n",
    "                          )\n",
    "'''                       \n",
    "                    "
   ]
  },
  {
   "cell_type": "code",
   "execution_count": null,
   "metadata": {},
   "outputs": [],
   "source": [
    "grid_xgb.fit(train_feat, train_label.values.ravel())"
   ]
  },
  {
   "cell_type": "code",
   "execution_count": null,
   "metadata": {},
   "outputs": [],
   "source": [
    "best_hyperparams = grid_xgb.best_params_\n",
    "print('Best hyperparameters:\\n', best_hyperparams)"
   ]
  }
 ],
 "metadata": {
  "kernelspec": {
   "display_name": "Python 3",
   "language": "python",
   "name": "python3"
  },
  "language_info": {
   "codemirror_mode": {
    "name": "ipython",
    "version": 3
   },
   "file_extension": ".py",
   "mimetype": "text/x-python",
   "name": "python",
   "nbconvert_exporter": "python",
   "pygments_lexer": "ipython3",
   "version": "3.7.3"
  }
 },
 "nbformat": 4,
 "nbformat_minor": 4
}
