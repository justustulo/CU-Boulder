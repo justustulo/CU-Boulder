{
 "cells": [
  {
   "cell_type": "markdown",
   "metadata": {},
   "source": [
    "# Homework 2 - Logistic Regression\n",
    "## CSCI 5622 - Spring 2019\n",
    "***\n",
    "**Name**: $<$Justus Tulowiecki$>$ \n",
    "***\n",
    "\n",
    "This assignment is due on Canvas by **11.59 PM on Wednesday, February 26th**. Submit only this Jupyter notebook to Canvas.  Do not compress it using tar, rar, zip, etc. Your solutions to analysis questions should be done in Markdown directly below the associated question.  Remember that you are encouraged to discuss the problems with your classmates and instructors, but **you must write all code and solutions on your own**, and list any people or sources consulted. The only exception to this rule is that you may copy code directly from your own solution to homework 1."
   ]
  },
  {
   "cell_type": "markdown",
   "metadata": {},
   "source": [
    "## Overview \n",
    "***\n",
    "\n",
    "\n",
    "Your task for this homework is to build a logistic regression model that implements stochastic gradient ascent. You'll apply it to the task of determining whether a number is 8 or 9\n",
    "\n",
    "We start by importing and plotting the given data"
   ]
  },
  {
   "cell_type": "code",
   "execution_count": 1,
   "metadata": {},
   "outputs": [],
   "source": [
    "import numpy as np\n",
    "import matplotlib.pylab as plt\n",
    "%matplotlib inline "
   ]
  },
  {
   "cell_type": "markdown",
   "metadata": {},
   "source": [
    "### [ 70 points] Problem 1: Implementing the Logistic Regression Classifier for Binary Classification\n",
    "***"
   ]
  },
  {
   "cell_type": "code",
   "execution_count": 2,
   "metadata": {},
   "outputs": [],
   "source": [
    "import matplotlib.pylab as plt\n",
    "#%matplotlib inline\n",
    "import pickle, gzip       \n",
    "import numpy as np\n",
    "\n",
    "class Numbers:\n",
    "    \"\"\"\n",
    "    Class to store MNIST data for images of 9 and 8 only\n",
    "    \"\"\" \n",
    "    def __init__(self, location):\n",
    "        # You shouldn't have to modify this class, but you can if you'd like\n",
    "        # Load the dataset\n",
    "        with gzip.open(location, 'rb') as f:\n",
    "            train_set, valid_set, test_set = pickle.load(f)\n",
    " \n",
    "        self.train_x, self.train_y = train_set\n",
    "        train_indices = np.where(self.train_y > 7)\n",
    "        self.train_x, self.train_y = self.train_x[train_indices], self.train_y[train_indices]\n",
    "        self.train_y = self.train_y - 8\n",
    " \n",
    "        self.valid_x, self.valid_y = valid_set\n",
    "        valid_indices = np.where(self.valid_y > 7)\n",
    "        self.valid_x, self.valid_y = self.valid_x[valid_indices], self.valid_y[valid_indices]\n",
    "        self.valid_y = self.valid_y - 8"
   ]
  },
  {
   "cell_type": "code",
   "execution_count": 3,
   "metadata": {},
   "outputs": [],
   "source": [
    "data = Numbers('./mnist.pklz')"
   ]
  },
  {
   "cell_type": "markdown",
   "metadata": {},
   "source": [
    "In this homework you'll implement a Logistic Regression classifier to take drawings of either an eight or a nine and output the corresponding label.\n",
    "* [10 pts] Finish the `calculate_score` function to return the output of applying the dot product of the weights with the input parameter\n",
    "\n",
    "* [10 pts] Finish the `sigmoid` function to return the output of applying the sigmoid function to the calculated score\n",
    "\n",
    "* [10 pts] Finish the `compute_gradient` function to return the derivate of the cost w.r.t. the weights\n",
    "\n",
    "* [10 pts] Finish the `sgd_update` function so that it performs stochastic gradient descent on the single training example and updates the weight vector correspondingly\n",
    "\n",
    "* [10 pts] Finish the `mini_batch_update` function so that it performs mini-batch gradient descent on the batches of the training data set example and updates the weight vector correspondingly"
   ]
  },
  {
   "cell_type": "code",
   "execution_count": 4,
   "metadata": {},
   "outputs": [],
   "source": [
    "from collections import defaultdict\n",
    "class LogReg:\n",
    "    \n",
    "    def __init__(self, X, y, eta = 0.1):\n",
    "        \"\"\"\n",
    "        Create a logistic regression classifier\n",
    "        :param num_features: The number of features (including bias)\n",
    "        :param eta: Learning rate (the default is a constant value)\n",
    "        :method: This should be the name of the method (sgd_update or mini_batch_descent)\n",
    "        :batch_size: optional argument that is needed only in the case of mini_batch_descent\n",
    "        \"\"\"\n",
    "        self.X = X\n",
    "        self.y = y\n",
    "        self.w = np.zeros(X.shape[1]) + np.random.uniform(low=0, high=0.001,size=X.shape[1]) # can remove from here and ask to be defined in the function\n",
    "        self.eta = eta\n",
    "        \n",
    "        \n",
    "    def calculate_score(self, x):\n",
    "        \"\"\"\n",
    "        :param x: This can be a single training example or it could be n training examples\n",
    "        :return score: Calculate the score that you will plug into the logistic function\n",
    "        \"\"\"\n",
    "        # TODO: Compute the score to be fed to the sigmoid function\n",
    "        \n",
    "        score = np.inner(self.w, x)  #dot product for each row\n",
    "        if type(score) == np.ndarray:\n",
    "            if len(score) == 1:\n",
    "                score = score[0]\n",
    "        \n",
    "        return(score)  \n",
    "        \n",
    "    \n",
    "    def sigmoid(self, score):\n",
    "        \"\"\"\n",
    "        :param score: Either a real valued number or a vector to convert into a number between 0 and 1\n",
    "        :return sigmoid: Calcuate the output of applying the sigmoid function to the score. This could be a single\n",
    "        value or a vector depending on the input\n",
    "        \"\"\"\n",
    "        # TODO: Complete this function to return the output of applying the sigmoid function to the score\n",
    "         \n",
    "        sigmoid_vals = 1/(1+np.e**(-(score))) \n",
    "        \n",
    "        if type(sigmoid_vals) == np.ndarray:\n",
    "            if len(sigmoid_vals) == 1:\n",
    "                sigmoid_vals = sigmoid_vals[0]\n",
    "        \n",
    "        return(sigmoid_vals)\n",
    "                       \n",
    "                       \n",
    "    def compute_gradient(self, x, h, y):\n",
    "        \"\"\"\n",
    "        :param x: Feature vector\n",
    "        :param h: predicted class label\n",
    "        :param y: real class label\n",
    "        :return gradient: Return the derivate of the cost w.r.t to the weights\n",
    "        \"\"\"\n",
    "        # TODO: Finish this function to compute the gradient\n",
    "        gradient = ((self.sigmoid(np.dot(self.w,np.transpose(x)))) - y)*x    \n",
    "        \n",
    "        return(gradient)\n",
    "  \n",
    "    def sgd_update(self):\n",
    "        \"\"\"\n",
    "        Compute a stochastic gradient update over the entire dataset to improve the log likelihood.\n",
    "        :param x_i: The features of the example to take the gradient with respect to\n",
    "        :param y: The target output of the example to take the gradient with respect to\n",
    "        :return: Return the new value of the regression coefficients\n",
    "        \"\"\" \n",
    "        # TODO: Finish this function to do a stochastic gradient descent update over the entire dataset\n",
    "        # and return the updated weight vecto\n",
    "        for i in np.arange(self.X.shape[0]):\n",
    "            gradient = self.compute_gradient(x = self.X[i], h=0, y=self.y[i])       #vectorization to improve efficiency?\n",
    "            self.w = self.w - self.eta*gradient\n",
    "        \n",
    "        return(self.w)\n",
    "        \n",
    "    \n",
    "    def mini_batch_update(self, batch_size):\n",
    "        \"\"\"\n",
    "        One iteration of the mini-batch update over the entire dataset (one sweep of the dataset).\n",
    "        :param X: NumPy array of features (size : no of examples X features)\n",
    "        :param y: Numpy array of class labels (size : no of examples X 1)\n",
    "        :param batch_size: size of the batch for gradient update\n",
    "        :returns w: Coefficients of the classifier (after updating)\n",
    "        \"\"\"\n",
    "        # TODO: Performing mini-batch training follows the same steps as in stochastic gradient descent,\n",
    "        # the only major difference is that we’ll use batches of training examples instead of one. \n",
    "        # Here we decide a batch size, which is the number of examples that will be fed into the \n",
    "        # computational graph at once.\n",
    "        \n",
    "        batch_grad = np.zeros(self.X.shape[1])\n",
    "        counter = 0\n",
    "        iterration = 0\n",
    "        loop_iters = np.arange(self.X.shape[0]/batch_size + 1).astype(int)     #can vectorization be implemented to improve efficiency?\n",
    "        \n",
    "        for i in loop_iters:\n",
    "            self.w = self.w - self.eta*batch_grad\n",
    "            temp_X = self.X[(batch_size*i):((i+1)*batch_size),]\n",
    "            temp_y = self.y[(batch_size*i):((i+1)*batch_size)]\n",
    "            batch_grad = 0 #reset gradient for each batch\n",
    "            for j in np.arange(len(temp_X)):\n",
    "                batch_grad = batch_grad + self.compute_gradient(x = temp_X[j], h=0, y=temp_y[j])\n",
    "             \n",
    "\n",
    "        return(self.w)\n",
    "    \n",
    "    \n",
    "    def progress(self, test_x, test_y, update_method, *batch_size):\n",
    "        \"\"\"\n",
    "        Given a set of examples, computes the probability and accuracy\n",
    "        :param test_x: The features of the test dataset to score\n",
    "        :param test_y: The features of the test \n",
    "        :param update_method: The update method to be used, either 'sgd_update' or 'mini_batch_update'\n",
    "        :param batch_size: Optional arguement to be given only in case of mini_batch_update\n",
    "        :return: A tuple of (log probability, accuracy)\n",
    "        \"\"\"\n",
    "        # TODO: Complete this function to compute the predicted value for an example based on the logistic value\n",
    "        # and return the log probability and the accuracy of those predictions    \n",
    "        if update_method == 'sgd_update':\n",
    "            self.sgd_update()\n",
    "            scores = self.calculate_score(test_x)\n",
    "            probs = self.sigmoid(scores)\n",
    "            log_prob = np.log(probs)\n",
    "        elif update_method == 'mini_batch_update':\n",
    "            self.mini_batch_update(*batch_size)\n",
    "            scores = self.calculate_score(test_x)\n",
    "            probs = self.sigmoid(scores)\n",
    "            log_prob = np.sum(np.log(probs))\n",
    "\n",
    "        preds = np.where(probs > 0.5, 1, 0) \n",
    "            \n",
    "            \n",
    "                \n",
    "            \n",
    "        accuracy = sum(preds == test_y)/len(test_y) \n",
    "            \n",
    "                \n",
    "                \n",
    "        return(log_prob, accuracy)\n",
    "        "
   ]
  },
  {
   "cell_type": "code",
   "execution_count": 5,
   "metadata": {},
   "outputs": [
    {
     "name": "stderr",
     "output_type": "stream",
     "text": [
      "...\n",
      "----------------------------------------------------------------------\n",
      "Ran 3 tests in 0.004s\n",
      "\n",
      "OK\n"
     ]
    },
    {
     "data": {
      "text/plain": [
       "<unittest.runner.TextTestResult run=3 errors=0 failures=0>"
      ]
     },
     "execution_count": 5,
     "metadata": {},
     "output_type": "execute_result"
    }
   ],
   "source": [
    "import unittest\n",
    "\n",
    "class LogRegTester(unittest.TestCase):\n",
    "    def setUp(self):\n",
    "        self.X = np.array([[0.1, 0.3 ], [0.4, 0.6], [0.8, 0.1], [0.8, 0.1], [0.5, 0.8]])\n",
    "        self.y = np.array([0,  0, 1, 1,  0])\n",
    "        self.log_reg_classifier_1 = LogReg(self.X, self.y, 0.5)\n",
    "        self.log_reg_classifier_2 = LogReg(self.X, self.y, 0.5)\n",
    "        \n",
    "    def test_sgd_update(self):\n",
    "        \"\"\"\n",
    "        Test sgd_update function from LogReg\n",
    "        \"\"\"\n",
    "        weights = self.log_reg_classifier_1.sgd_update()\n",
    "        self.assertEqual(round(weights[0], 2), 0.16)\n",
    "        self.assertEqual(round(weights[1], 2), -0.37)\n",
    "        \n",
    "    def tests_mini_batch_update(self):\n",
    "        \"\"\"\n",
    "        Test mini_batch_update function from LogReg\n",
    "        \"\"\"\n",
    "        weights = self.log_reg_classifier_2.mini_batch_update(2)\n",
    "        self.assertEqual(round(weights[0], 2), 0.17)\n",
    "        self.assertEqual(round(weights[1], 2), -0.37)\n",
    "        \n",
    "    def tests_progress_sgd_update(self):\n",
    "        \"\"\"\n",
    "        Test progress function from LogReg with method = 'sgd_update'\n",
    "        \"\"\"\n",
    "        self.log_reg_classifier_1 = LogReg(self.X[:4], self.y[:4], 0.5)\n",
    "        log_prob, accuracy = self.log_reg_classifier_1.progress(self.X[4:], self.y[4:], 'sgd_update')\n",
    "        self.assertEqual(round(log_prob, 1), -0.7)  # Changed to round 1.\n",
    "        self.assertEqual(accuracy, 0)\n",
    "        \n",
    "        \n",
    "        \n",
    "        \n",
    "    \n",
    "    #BEGIN Workspace\n",
    "    #Add more test functions as required\n",
    "    #HINT - You'll want to make sure your\n",
    "    #END Workspace\n",
    "    \n",
    "tests = LogRegTester()\n",
    "myTests = unittest.TestLoader().loadTestsFromModule(tests)\n",
    "unittest.TextTestRunner().run(myTests)"
   ]
  },
  {
   "cell_type": "code",
   "execution_count": 6,
   "metadata": {
    "deletable": false,
    "editable": false,
    "nbgrader": {
     "cell_type": "code",
     "checksum": "66271acf9fa2ad5ba37138c6c65d0e4b",
     "grade": true,
     "grade_id": "cell-6dae20a6650e207a",
     "locked": true,
     "points": 10,
     "schema_version": 3,
     "solution": false,
     "task": false
    }
   },
   "outputs": [],
   "source": [
    "# DO NOT DELETE THIS CELL !!!"
   ]
  },
  {
   "cell_type": "code",
   "execution_count": 7,
   "metadata": {
    "deletable": false,
    "editable": false,
    "nbgrader": {
     "cell_type": "code",
     "checksum": "fc5fb2bf05afb8b55193714209151048",
     "grade": true,
     "grade_id": "cell-758427c4f39cdc27",
     "locked": true,
     "points": 10,
     "schema_version": 3,
     "solution": false,
     "task": false
    }
   },
   "outputs": [],
   "source": [
    "# DO NOT DELETE THIS CELL !!!"
   ]
  },
  {
   "cell_type": "code",
   "execution_count": 8,
   "metadata": {
    "deletable": false,
    "editable": false,
    "nbgrader": {
     "cell_type": "code",
     "checksum": "d8de3625beec198e3f16aeae05b6343d",
     "grade": true,
     "grade_id": "cell-4faa4c852f8052c5",
     "locked": true,
     "points": 10,
     "schema_version": 3,
     "solution": false,
     "task": false
    }
   },
   "outputs": [],
   "source": [
    "# DO NOT DELETE THIS CELL !!!"
   ]
  },
  {
   "cell_type": "code",
   "execution_count": 9,
   "metadata": {
    "deletable": false,
    "editable": false,
    "nbgrader": {
     "cell_type": "code",
     "checksum": "e5a0d847dc62f3be14b1741bd706757f",
     "grade": true,
     "grade_id": "cell-83bae9107e0d2269",
     "locked": true,
     "points": 10,
     "schema_version": 3,
     "solution": false,
     "task": false
    }
   },
   "outputs": [],
   "source": [
    "# DO NOT DELETE THIS CELL !!!"
   ]
  },
  {
   "cell_type": "code",
   "execution_count": 10,
   "metadata": {
    "deletable": false,
    "editable": false,
    "nbgrader": {
     "cell_type": "code",
     "checksum": "25cfd3959691f614fae03fbe78d14a4b",
     "grade": true,
     "grade_id": "cell-3ef057a9059ef5d4",
     "locked": true,
     "points": 10,
     "schema_version": 3,
     "solution": false,
     "task": false
    }
   },
   "outputs": [],
   "source": [
    "# DO NOT DELETE THIS CELL !!!"
   ]
  },
  {
   "cell_type": "markdown",
   "metadata": {},
   "source": [
    "**Q:** After completing the class above, loop over the training data and perform ___stochastic gradient descent___ for 10 epochs, and five different values of eta range [.0001, .01, .1, .5, 1]. Train your model and do the following:\n",
    "\n",
    "* [2.5 pts] PART A : Create a new classifier object and Using the `progress` method, calculate the accuracy on the __training sets__ at the end of each epoch and store it. Plot the accuracy trends for the different values of eta on same graph.\n",
    "\n",
    "* [2.5 pts] PART B : Create a new classifier object and Using the `progress` method, calculate the accuracy on the __validation set__ at the end of each epoch and store it. Plot the accuracy trends for the different values of eta on same graph.\n",
    "\n",
    "Don't forget to shuffle your training data after each epoch."
   ]
  },
  {
   "cell_type": "markdown",
   "metadata": {},
   "source": [
    "Implement part A below. DO NOT DELETE THE CELL"
   ]
  },
  {
   "cell_type": "code",
   "execution_count": 79,
   "metadata": {
    "deletable": false,
    "nbgrader": {
     "cell_type": "code",
     "checksum": "dab6194829c3f760a0700843b8ac0d14",
     "grade": true,
     "grade_id": "cell-ef8affc8f47de848",
     "locked": false,
     "points": 2.5,
     "schema_version": 3,
     "solution": true,
     "task": false
    }
   },
   "outputs": [
    {
     "data": {
      "image/png": "[encoded data removed]",
      "text/plain": [
       "<Figure size 432x288 with 1 Axes>"
      ]
     },
     "metadata": {
      "needs_background": "light"
     },
     "output_type": "display_data"
    }
   ],
   "source": [
    "# YOUR CODE HERE\n",
    "X_train = data.train_x\n",
    "X_test = data.valid_x\n",
    "y_train = data.train_y\n",
    "y_test = data.valid_y\n",
    "\n",
    "\n",
    "epochs = np.arange(10)\n",
    "etas = [0.0001, 0.01, 0.1, 0.5, 1]\n",
    "\n",
    "sgdacc_train = np.zeros((len(etas), len(epochs)))\n",
    "\n",
    "for i in np.arange(len(etas)):\n",
    "    LogReg_sgd = LogReg(X_train, y_train, eta = etas[i]) #instantiate the log reg classifier for each learning rate\n",
    "    for j in epochs:\n",
    "        rand_nums1 = np.arange(len(X_train))   \n",
    "        np.random.shuffle(rand_nums1)                #shuffle the data before computing the gradient and weights for each epoch\n",
    "\n",
    "        Xtrain_shuffle1 = X_train[rand_nums1]\n",
    "        ytrain_shuffle1 = y_train[rand_nums1]\n",
    "        \n",
    "        LogReg_sgd.X = Xtrain_shuffle1\n",
    "        LogReg_sgd.y = ytrain_shuffle1\n",
    "        \n",
    "        lprobs_train, accuracy_train = LogReg_sgd.progress(Xtrain_shuffle1, ytrain_shuffle1, 'sgd_update') #store accuracy at the end of each epoch for training data\n",
    "        sgdacc_train[i,j] = accuracy_train\n",
    "        \n",
    "       \n",
    "for plots in np.arange(len(sgdacc_train)):\n",
    "    plt.plot(sgdacc_train[plots]);\n",
    "plt.xlabel(\"Epoch\")\n",
    "plt.ylabel(\"Accuracy\")\n",
    "plt.title(\"Training Data Learning Rates and Accuracy\")\n",
    "plt.legend(etas, title='Learning Rates');"
   ]
  },
  {
   "cell_type": "markdown",
   "metadata": {},
   "source": [
    "Implement part B below. DO NOT DELETE THE CELL"
   ]
  },
  {
   "cell_type": "code",
   "execution_count": 80,
   "metadata": {
    "deletable": false,
    "nbgrader": {
     "cell_type": "code",
     "checksum": "1fb60d22338d71c2da37a063263b109c",
     "grade": true,
     "grade_id": "cell-ec6999395608d8f1",
     "locked": false,
     "points": 2.5,
     "schema_version": 3,
     "solution": true,
     "task": false
    }
   },
   "outputs": [
    {
     "data": {
      "image/png": "[encoded data removed]",
      "text/plain": [
       "<Figure size 432x288 with 1 Axes>"
      ]
     },
     "metadata": {
      "needs_background": "light"
     },
     "output_type": "display_data"
    }
   ],
   "source": [
    "# YOUR CODE HERE\n",
    "sgdacc_test = np.zeros((len(etas), len(epochs)))\n",
    "\n",
    "for i in np.arange(len(etas)):\n",
    "    LogReg_sgd = LogReg(X_train, y_train, eta = etas[i]) #instantiate the log reg classifier for each learning rate\n",
    "    for j in epochs:\n",
    "        rand_nums2 = np.arange(len(X_train))\n",
    "        np.random.shuffle(rand_nums2)       #shuffle the date before computing the gradient and weights\n",
    "\n",
    "        Xtrain_shuffle2 = X_train[rand_nums2]\n",
    "        ytrain_shuffle2 = y_train[rand_nums2]\n",
    "        \n",
    "        LogReg_sgd.X = Xtrain_shuffle2\n",
    "        LogReg_sgd.y = ytrain_shuffle2\n",
    "        \n",
    "        lprobs_test, accuracy_test = LogReg_sgd.progress(X_test, y_test, 'sgd_update') #store accuracy for the test data\n",
    "        sgdacc_test[i,j] = accuracy_test\n",
    "        \n",
    "       \n",
    "for plots in np.arange(len(sgdacc_test)):\n",
    "    plt.plot(sgdacc_test[plots]);\n",
    "plt.xlabel(\"Epoch\")\n",
    "plt.ylabel(\"Accuracy\")\n",
    "plt.title(\"Testing Data Learning Rates and Accuracy\")\n",
    "plt.legend(etas, title='Learning Rates');"
   ]
  },
  {
   "cell_type": "markdown",
   "metadata": {},
   "source": [
    "**Q:** After completing the class above, loop over the training data and perform ___mini batch gradient descent___ for 10 epochs, and five different values of eta range [.0001, .01, .1, .5, 1]. Train your model and do the following:\n",
    "\n",
    "* [2.5 pts] PART C : Create a new classifier object and Using the `progress` method, calculate the accuracy on the __training sets__ at the end of each epoch and store it. Plot the accuracy trends for the different values of eta on same graph.\n",
    "\n",
    "* [2.5 pts] PART D : Create a new classifier object and Using the `progress` method, calculate the accuracy on the __validation set__ at the end of each epoch and store it. Plot the accuracy trends for the different values of eta on same graph.\n",
    "\n",
    "Don't forget to shuffle your training data after each epoch."
   ]
  },
  {
   "cell_type": "markdown",
   "metadata": {},
   "source": [
    "Implement part C below. DO NOT DELETE THE CELL"
   ]
  },
  {
   "cell_type": "code",
   "execution_count": 81,
   "metadata": {
    "deletable": false,
    "nbgrader": {
     "cell_type": "code",
     "checksum": "7aed5aa63ce920693892ad8525ba0174",
     "grade": true,
     "grade_id": "cell-52542793c69f29c3",
     "locked": false,
     "points": 2.5,
     "schema_version": 3,
     "solution": true,
     "task": false
    }
   },
   "outputs": [
    {
     "data": {
      "image/png": "[encoded data removed]",
      "text/plain": [
       "<Figure size 432x288 with 1 Axes>"
      ]
     },
     "metadata": {
      "needs_background": "light"
     },
     "output_type": "display_data"
    }
   ],
   "source": [
    "# YOUR CODE HERE\n",
    "X_train = data.train_x\n",
    "X_test = data.valid_x\n",
    "y_train = data.train_y\n",
    "y_test = data.valid_y\n",
    "\n",
    "\n",
    "epochs = np.arange(10)\n",
    "etas = [0.0001, 0.01, 0.1, 0.5, 1]\n",
    "\n",
    "mbacc_train = np.zeros((len(etas), len(epochs)))\n",
    "\n",
    "for i in np.arange(len(etas)):\n",
    "    LogReg_mb = LogReg(X_train, y_train, eta = etas[i]) #instantiate the log reg classifier for each learning rate\n",
    "    for j in epochs:\n",
    "        rand_nums3 = np.arange(len(X_train))   \n",
    "        np.random.shuffle(rand_nums3)                #shuffle the data before computing the gradient and weights for each epoch\n",
    "\n",
    "        Xtrain_shuffle3 = X_train[rand_nums3]\n",
    "        ytrain_shuffle3 = y_train[rand_nums3]\n",
    "        \n",
    "        LogReg_mb.X = Xtrain_shuffle3\n",
    "        LogReg_mb.y = ytrain_shuffle3\n",
    "        \n",
    "        lprobs_train, accuracy_train = LogReg_mb.progress(Xtrain_shuffle3, ytrain_shuffle3, 'mini_batch_update', 5) #store accuracy at the end of each epoch for training data\n",
    "        mbacc_train[i,j] = accuracy_train\n",
    "        \n",
    "       \n",
    "for plots in np.arange(len(mbacc_train)):\n",
    "    plt.plot(mbacc_train[plots]);\n",
    "plt.xlabel(\"Epoch\")\n",
    "plt.ylabel(\"Accuracy\")\n",
    "plt.title(\"Training Data Learning Rates and Accuracy\")\n",
    "plt.legend(etas, title='Learning Rates');"
   ]
  },
  {
   "cell_type": "markdown",
   "metadata": {},
   "source": [
    "Implement part D below. DO NOT DELETE THE CELL"
   ]
  },
  {
   "cell_type": "code",
   "execution_count": 82,
   "metadata": {
    "deletable": false,
    "nbgrader": {
     "cell_type": "code",
     "checksum": "6476b7a70a099d872b9939d68f8da698",
     "grade": true,
     "grade_id": "cell-d02f5de2e6a3f212",
     "locked": false,
     "points": 2.5,
     "schema_version": 3,
     "solution": true,
     "task": false
    }
   },
   "outputs": [
    {
     "data": {
      "image/png": "[encoded data removed]",
      "text/plain": [
       "<Figure size 432x288 with 1 Axes>"
      ]
     },
     "metadata": {
      "needs_background": "light"
     },
     "output_type": "display_data"
    }
   ],
   "source": [
    "# YOUR CODE HERE\n",
    "mbacc_test = np.zeros((len(etas), len(epochs)))\n",
    "\n",
    "for i in np.arange(len(etas)):\n",
    "    LogReg_mb = LogReg(X_train, y_train, eta = etas[i]) #instantiate the log reg classifier for each learning rate\n",
    "    for j in epochs:\n",
    "        rand_nums4 = np.arange(len(X_train))\n",
    "        np.random.shuffle(rand_nums4)       #shuffle the date before computing the gradient and weights\n",
    "\n",
    "        Xtrain_shuffle4 = X_train[rand_nums4]\n",
    "        ytrain_shuffle4 = y_train[rand_nums4]\n",
    "        \n",
    "        LogReg_mb.X = Xtrain_shuffle4\n",
    "        LogReg_mb.y = ytrain_shuffle4\n",
    "        \n",
    "        lprobs_test, accuracy_test = LogReg_mb.progress(X_test, y_test, 'mini_batch_update', 5) #store accuracy for the test data\n",
    "        mbacc_test[i,j] = accuracy_test\n",
    "        \n",
    "       \n",
    "for plots in np.arange(len(mbacc_test)):\n",
    "    plt.plot(mbacc_test[plots]);\n",
    "plt.xlabel(\"Epoch\")\n",
    "plt.ylabel(\"Accuracy\")\n",
    "plt.title(\"Testing Data Learning Rates and Accuracy\")\n",
    "plt.legend(etas, title='Learning Rates');"
   ]
  },
  {
   "cell_type": "markdown",
   "metadata": {},
   "source": [
    "**Q:** [5 pts] Describe the role of learning rate (eta) on the efficiency of convergence during training?"
   ]
  },
  {
   "cell_type": "markdown",
   "metadata": {
    "deletable": false,
    "nbgrader": {
     "cell_type": "markdown",
     "checksum": "4803267a54ce015791ce3a8f6ac01e7a",
     "grade": true,
     "grade_id": "cell-672c3d3d77a18ef1",
     "locked": false,
     "points": 5,
     "schema_version": 3,
     "solution": true,
     "task": false
    }
   },
   "source": [
    "The learning rate (eta) has a large effect on the efficiency of convergence. Looking at low values of eta, such as 0.001 we can see that we did not find weights as good as other etas since the step size is so small. We would likely have to iterate over a very large number of epochs in order for low learning rates to converge which would take a long time and be computationally expensive.\n",
    "\n",
    "For high values of eta, we also do not find optimal weights for our logistic regression. This is because our step size is too large and we are \"overshooting\" the optimal weights which can be seen in the jagged pattern in the graphs.\n",
    "\n",
    "It appears that the \"middle\" values of eta are ideal, such as 0.01, 0.1, 0.5. These typically give the highest accuracies while converging rather quickly over 10 epochs. In general lower etas will take a long time to converge.\n",
    "\n",
    "Finally, we can see that the accuracy starts to decrease for the largest number of epochs. This can be due to overfitting the model parameters to the training data.\n"
   ]
  },
  {
   "cell_type": "markdown",
   "metadata": {},
   "source": [
    "**Q:** [5 pts] Describe the role of the number of epochs on validation accuracy?"
   ]
  },
  {
   "cell_type": "markdown",
   "metadata": {
    "deletable": false,
    "nbgrader": {
     "cell_type": "markdown",
     "checksum": "673287df57a6b4ddc1a7073723c5686a",
     "grade": true,
     "grade_id": "cell-2aebead81356b6ec",
     "locked": false,
     "points": 5,
     "schema_version": 3,
     "solution": true,
     "task": false
    }
   },
   "source": [
    "Increasing epochs typically improves validation accuracy. This is because with each epoch we are closer to finding the optimal parameter and minimizing the gradient of the logistic regression. Sometimes the accuracy \"jumps\" around due to overshooting optimal weight, but the overall trend is to increase accuracy with epochs."
   ]
  },
  {
   "cell_type": "markdown",
   "metadata": {},
   "source": [
    "### [ 30 points] Problem 2: Implementing the Logistic Regression Classifier for Multinomial Classification\n",
    "\n",
    "You will not create a classifier that is commonly referred to as Multinomial Logistic Regression. The particular method you will be implementing is **One Vs All** or **One Vs Rest**. The dataset will be the MNIST dataset which includes all digits 0-9. You are free to use the functions you created above as needed.\n",
    "\n",
    "* [5 pts] 2.1 Normalize your data.\n",
    "* [5 pts] 2.2 Transform your outputs into a set of binary features via one-hot encoding.\n",
    "* [5 pts] 2.3 Write get_optimal_parameters - train all ten models at once.\n",
    "* [5 pts] 2.4 Calculate the accuracy of your model on Train and Test data.\n",
    "* [5 pts] 2.5 Generate a confusion matrix on test and train Data.\n",
    "* [5 pts] 2.6 Predict the labels of the first ten datapoints from your test set alongside the images of those same datapoints."
   ]
  },
  {
   "cell_type": "code",
   "execution_count": 83,
   "metadata": {},
   "outputs": [],
   "source": [
    "class Numbers2:\n",
    "    \"\"\"\n",
    "    Class to store MNIST data for images of 0-9\n",
    "    \"\"\" \n",
    "    def __init__(self, location):\n",
    "        # You shouldn't have to modify this class, but you can if you'd like\n",
    "        # Load the dataset\n",
    "        with gzip.open(location, 'rb') as f:\n",
    "            train_set, valid_set, test_set = pickle.load(f)\n",
    " \n",
    "        self.train_x, self.train_y = train_set\n",
    "        self.test_x, self.test_y = valid_set"
   ]
  },
  {
   "cell_type": "code",
   "execution_count": 84,
   "metadata": {},
   "outputs": [
    {
     "name": "stdout",
     "output_type": "stream",
     "text": [
      "[5 0 4 1 9 2 1 3 1 4]\n",
      "true label: 6\n"
     ]
    },
    {
     "data": {
      "image/png": "[encoded data removed]",
      "text/plain": [
       "<Figure size 432x288 with 1 Axes>"
      ]
     },
     "metadata": {
      "needs_background": "light"
     },
     "output_type": "display_data"
    }
   ],
   "source": [
    "data2 = Numbers2('./mnist.pklz')\n",
    "print(data2.train_y[:10])\n",
    "def view_digit(example, label=None):\n",
    "    if label is not None: print(\"true label: {:d}\".format(label))\n",
    "    plt.imshow(example.reshape(28,28), cmap='gray');\n",
    "view_digit(data2.train_x[18],data2.train_y[18])"
   ]
  },
  {
   "cell_type": "code",
   "execution_count": 85,
   "metadata": {},
   "outputs": [],
   "source": [
    "from sklearn import preprocessing\n",
    "\n",
    "class MultiLogReg:\n",
    "    \n",
    "    def __init__(self, X, y, eta = 0.1):\n",
    "        \n",
    "        self.y_unique = np.unique(y)\n",
    "        self.X = self.normalize_data(X)\n",
    "        self.y = self.one_hot_encoding(y)\n",
    "        self.eta = eta\n",
    "        \n",
    "        self.models = []\n",
    "        \n",
    "        \n",
    "    def one_hot_encoding(self, y):\n",
    "        # TO DO: Represent the output vector y as a one hot encoding. Create a matrix of dimensions (m X 10) \n",
    "        # where m = number of examples, and 10 for number of classes\n",
    "        # if the class for the ith example is 7, then y[i][7] = 1 and the for k != 7, y[i][k] = 0.\n",
    "        n = len(np.unique(y))\n",
    "        m = len(y)\n",
    "        one_hot_matrix = np.zeros((m,n))\n",
    "        \n",
    "        for i in np.arange(m):\n",
    "            one_hot_matrix[i][y[i]] = 1 \n",
    "        \n",
    "        return(one_hot_matrix)\n",
    "        \n",
    "        \n",
    "    def normalize_data(self, X):\n",
    "        # TO DO: Normalize the feature values of dataset X using the mean and standard deviation of the respective features \n",
    "        \n",
    "        #for i in range(0,X.shape[0]):\n",
    "           # X[i,:] = np.divide(np.subtract(X[:,i],np.mean(X[i,:])),np.std(X[i,:]))\n",
    "        X = np.divide(np.subtract(X,np.mean(X)),np.std(X))\n",
    "        return(X)\n",
    "    \n",
    "    def get_optimal_parameters(self):\n",
    "        # TO DO: This is the main training loop. You will have to find the optimal weights for all 10 models\n",
    "        # Each model is fit to it's class which is (0-9), and the cost function will be against all of the other \n",
    "        # numbers \"the rest\".\n",
    "\n",
    "        for i in self.y_unique:\n",
    "        #for i in np.arange(5):\n",
    "            y_temp = np.where(self.y[:,i] == 1,1,0)\n",
    "            logreg = LogReg(self.X, y_temp, self.eta)\n",
    "            \n",
    "            accuracy = 0\n",
    "            stop = 0\n",
    "        \n",
    "            while stop == 0:\n",
    "            #for x in np.arange(0,6):   \n",
    "                rand = np.arange(len(self.X))\n",
    "                np.random.shuffle(rand)       #shuffle the date before computing the gradient and weights\n",
    "\n",
    "                Xtrain_multi = self.X[rand]\n",
    "                ytrain_multi = y_temp[rand]\n",
    "\n",
    "                logreg.X = Xtrain_multi\n",
    "                logreg.y = ytrain_multi\n",
    "\n",
    "                lprobs_train, accuracy_train = logreg.progress(Xtrain_multi, ytrain_multi, 'sgd_update') #store accuracy for the test data\n",
    "                \n",
    "                \n",
    "                if (accuracy_train - accuracy) > 0.001:\n",
    "                    accuracy = accuracy_train\n",
    "                else:\n",
    "                    stop = stop + 1\n",
    "                    if stop == 1:\n",
    "                        self.models.append(logreg)\n",
    "                        print(accuracy)       #########################################REMOVE THIS LINE BEFORE SUBMITTING\n",
    "        \n",
    "        return(self.models)\n",
    "            \n",
    "    def predict(self, test_image, test_label):\n",
    "        # TO DO: This function should return the probabilities predicted by each of the models for some given \n",
    "        # input image. The probabilities are sorted with the most likely being listed first.\n",
    "        # Return a vector of shape (10, 2) with the first column holding the number and the second column with\n",
    "        # the probability that the test_image is that number\n",
    "        \n",
    "        probs = np.zeros((10,2))\n",
    "        \n",
    "        for i in self.y_unique:\n",
    "            probability = self.models[i].sigmoid(self.models[i].calculate_score(test_image))               #######SHOULD THIS BE SIGMOID?\n",
    "            probs[i,0] = i                                                                                 #WHY DO I HAVE TO PASS IN A TEST LABEL?\n",
    "            probs[i,1] = probability                                                                #should it be log prob?\n",
    "    \n",
    "        probs = probs[np.flip(probs[:,1].argsort())]\n",
    "        return(probs)"
   ]
  },
  {
   "cell_type": "code",
   "execution_count": 18,
   "metadata": {
    "deletable": false,
    "editable": false,
    "nbgrader": {
     "cell_type": "code",
     "checksum": "7a9848ee01129a955b176d30e8b5ad7b",
     "grade": true,
     "grade_id": "cell-6b2210e74f243cc5",
     "locked": true,
     "points": 5,
     "schema_version": 3,
     "solution": false,
     "task": false
    }
   },
   "outputs": [],
   "source": [
    "# DO NOT DELETE THIS CELL !!!"
   ]
  },
  {
   "cell_type": "code",
   "execution_count": 19,
   "metadata": {
    "deletable": false,
    "editable": false,
    "nbgrader": {
     "cell_type": "code",
     "checksum": "0864f8ccc23364600d23825d74b4b805",
     "grade": true,
     "grade_id": "cell-c999e8642ad56c95",
     "locked": true,
     "points": 5,
     "schema_version": 3,
     "solution": false,
     "task": false
    }
   },
   "outputs": [],
   "source": [
    "# DO NOT DELETE THIS CELL !!!"
   ]
  },
  {
   "cell_type": "markdown",
   "metadata": {},
   "source": [
    "### QUESTION ###\n",
    "It is important to know how well your model did on the whole. You need to report the ___accuracy as a percentage___ on the training set and the test set from Numbers2. You should also plot a ___confusion matrix___ for both, just like you did on the last homework and mention the numbers that were misclassified the most. Finally use the predict method to predict the labels for the FIRST 10 instances from the test set, while also plotting the respective images for validation."
   ]
  },
  {
   "cell_type": "markdown",
   "metadata": {},
   "source": [
    "Train a MultiLogReg Model in the cell below. DO NOT DELETE THE CELL"
   ]
  },
  {
   "cell_type": "code",
   "execution_count": 86,
   "metadata": {
    "deletable": false,
    "nbgrader": {
     "cell_type": "code",
     "checksum": "6adc8b9ff983ac7fb1d90033bb0841fa",
     "grade": true,
     "grade_id": "cell-5a678a51a11b6ce8",
     "locked": false,
     "points": 5,
     "schema_version": 3,
     "solution": true,
     "task": false
    }
   },
   "outputs": [
    {
     "name": "stdout",
     "output_type": "stream",
     "text": [
      "0.9899\n"
     ]
    },
    {
     "name": "stderr",
     "output_type": "stream",
     "text": [
      "C:\\Users\\JT\\Anaconda3\\lib\\site-packages\\ipykernel_launcher.py:41: RuntimeWarning: overflow encountered in double_scalars\n",
      "C:\\Users\\JT\\Anaconda3\\lib\\site-packages\\ipykernel_launcher.py:41: RuntimeWarning: overflow encountered in power\n",
      "C:\\Users\\JT\\Anaconda3\\lib\\site-packages\\ipykernel_launcher.py:123: RuntimeWarning: divide by zero encountered in log\n"
     ]
    },
    {
     "name": "stdout",
     "output_type": "stream",
     "text": [
      "0.99136\n",
      "0.97432\n",
      "0.96532\n",
      "0.97356\n",
      "0.97136\n",
      "0.98232\n",
      "0.9771\n",
      "0.95554\n",
      "0.94778\n"
     ]
    },
    {
     "data": {
      "text/plain": [
       "[<__main__.LogReg at 0x24594bf0be0>,\n",
       " <__main__.LogReg at 0x24594c11b70>,\n",
       " <__main__.LogReg at 0x24594c84cc0>,\n",
       " <__main__.LogReg at 0x24594c84320>,\n",
       " <__main__.LogReg at 0x24594c84080>,\n",
       " <__main__.LogReg at 0x24594c84ef0>,\n",
       " <__main__.LogReg at 0x24594c847f0>,\n",
       " <__main__.LogReg at 0x24594c90c50>,\n",
       " <__main__.LogReg at 0x24594c90400>,\n",
       " <__main__.LogReg at 0x24594c90048>]"
      ]
     },
     "execution_count": 86,
     "metadata": {},
     "output_type": "execute_result"
    }
   ],
   "source": [
    "multilogreg = MultiLogReg(data2.train_x, data2.train_y)\n",
    "multilogreg.get_optimal_parameters()"
   ]
  },
  {
   "cell_type": "markdown",
   "metadata": {},
   "source": [
    "Compute the accuracy on the train and test data from Numbers2 using the model you trained above. DO NOT DELETE THE CELL"
   ]
  },
  {
   "cell_type": "code",
   "execution_count": 87,
   "metadata": {
    "deletable": false,
    "nbgrader": {
     "cell_type": "code",
     "checksum": "7216ab7a873dd1839e1ba8b783aec16e",
     "grade": true,
     "grade_id": "cell-f82d99c679208a96",
     "locked": false,
     "points": 5,
     "schema_version": 3,
     "solution": true,
     "task": false
    }
   },
   "outputs": [
    {
     "name": "stderr",
     "output_type": "stream",
     "text": [
      "C:\\Users\\JT\\Anaconda3\\lib\\site-packages\\ipykernel_launcher.py:41: RuntimeWarning: overflow encountered in double_scalars\n"
     ]
    },
    {
     "name": "stdout",
     "output_type": "stream",
     "text": [
      "Accuracy on training data: 0.85416\n",
      "Accuracy on testing data: 0.8659\n"
     ]
    }
   ],
   "source": [
    "X_train = data2.train_x\n",
    "y_train = data2.train_y\n",
    "X_test = data2.test_x\n",
    "y_test = data2.test_y\n",
    "\n",
    "X_train_norm = multilogreg.normalize_data(X_train)\n",
    "X_test_norm = multilogreg.normalize_data(X_test)\n",
    "\n",
    "y_train_encode = multilogreg.one_hot_encoding(y_train)\n",
    "y_test_encode = multilogreg.one_hot_encoding(y_test)\n",
    "\n",
    "\n",
    "def acc(X,y):\n",
    "    preds = []\n",
    "    for item in X:\n",
    "        preds.append(multilogreg.predict(item,0)[0,0])\n",
    "    accuracy = sum(preds == y)/len(y)\n",
    "    return(accuracy)\n",
    "\n",
    "accuracy_train = acc(X_train_norm, y_train)\n",
    "accuracy_test = acc(X_test_norm, y_test)\n",
    "\n",
    "print(\"Accuracy on training data:\", accuracy_train)\n",
    "print(\"Accuracy on testing data:\", accuracy_test)"
   ]
  },
  {
   "cell_type": "code",
   "execution_count": null,
   "metadata": {
    "deletable": false,
    "nbgrader": {
     "cell_type": "code",
     "checksum": "7216ab7a873dd1839e1ba8b783aec16e",
     "grade": true,
     "grade_id": "cell-f82d99c679208a96",
     "locked": false,
     "points": 5,
     "schema_version": 3,
     "solution": true,
     "task": false
    }
   },
   "outputs": [],
   "source": []
  },
  {
   "cell_type": "markdown",
   "metadata": {},
   "source": [
    "Plot the confusion matrix on Test and Train Data using the model you trained before. DO NOT DELETE THE CELL"
   ]
  },
  {
   "cell_type": "code",
   "execution_count": 94,
   "metadata": {
    "deletable": false,
    "nbgrader": {
     "cell_type": "code",
     "checksum": "12ad7b3162aa14d26a16359ea6b937e7",
     "grade": true,
     "grade_id": "cell-99273a4c41cde194",
     "locked": false,
     "points": 5,
     "schema_version": 3,
     "solution": true,
     "task": false
    }
   },
   "outputs": [
    {
     "name": "stderr",
     "output_type": "stream",
     "text": [
      "C:\\Users\\JT\\Anaconda3\\lib\\site-packages\\ipykernel_launcher.py:41: RuntimeWarning: overflow encountered in double_scalars\n"
     ]
    },
    {
     "data": {
      "text/plain": [
       "array([[ 915,    0,    1,    1,    0,    5,    1,    3,    2,    3],\n",
       "       [   0,  956,    4,    0,    3,    3,    0,    4,   11,    1],\n",
       "       [  35,   10,  881,   19,    4,   17,   17,   21,   37,   11],\n",
       "       [   7,   60,   38,  964,   10,   96,    1,   44,  147,   78],\n",
       "       [   4,    1,   14,    0,  936,   12,    9,    5,   16,   84],\n",
       "       [   7,   16,   10,   21,    6,  730,    6,    4,   65,   36],\n",
       "       [  16,   13,   17,    7,    5,   27,  932,    0,   11,    1],\n",
       "       [   4,    0,   11,    3,    4,    7,    1, 1001,   11,   85],\n",
       "       [   3,    7,   13,    9,    1,   12,    0,    0,  686,    4],\n",
       "       [   0,    1,    1,    6,   14,    6,    0,    8,   23,  658]])"
      ]
     },
     "execution_count": 94,
     "metadata": {},
     "output_type": "execute_result"
    }
   ],
   "source": [
    "def confusionMatrix(testX, testY):\n",
    "        \"\"\"\n",
    "        Generate a confusion matrix for the given test set\n",
    "        PARAMETERS\n",
    "        testX - an np.array of feature vectors of test points\n",
    "        testY - the corresponding correct classifications of our test set\n",
    "        RETURN\n",
    "        C - an N*N np.array of counts, where N is the number of classes in our classifier\n",
    "        \"\"\"\n",
    "        #C = np.array([])\n",
    "        #BEGIN Workspace 1.4\n",
    "        N = len(np.unique(testY, return_counts=False))\n",
    "        ind = np.unique(testY)\n",
    "        C = np.array(np.zeros(shape=(N,N)))\n",
    "        \n",
    "    \n",
    "        pred = []                         #get predictions for test set\n",
    "        for pt in np.arange(len(testX)):\n",
    "            pred.append(multilogreg.predict(testX[pt],0)[0,0])\n",
    "        pred_array = np.array([pred])\n",
    "        \n",
    "        \n",
    "        #pred_test = zip(testY, pred_array)\n",
    "\n",
    "        list1=[]\n",
    "        list2=[]\n",
    "\n",
    "        for item in np.nditer(pred_array):\n",
    "            list1.append(np.where(item == ind)[0][0])      #appends index for predictions\n",
    "\n",
    "        for item2 in np.nditer(testY):\n",
    "            list2.append(np.where(item2 == ind)[0][0])      #appends index for test\n",
    "\n",
    "        pred_test = zip(list1,list2)\n",
    "\n",
    "        for item3, item4 in pred_test:                  #adds one at specifiec index   \n",
    "            C[item3][item4] += 1\n",
    "\n",
    "        #TODO: Run classification for the test set, compare to test answers, and add counts to matrix\n",
    "        #END Workspace 1.4\n",
    "        return(C)\n",
    "\n",
    "    \n",
    "conf_matrix = confusionMatrix(X_test_norm, y_test).astype(int)\n",
    "conf_matrix\n"
   ]
  },
  {
   "cell_type": "markdown",
   "metadata": {},
   "source": [
    "Predict Labels of First 10 datapoints from your test set and also the plot their images in the cell below. DO NOT DELETE THE CELL"
   ]
  },
  {
   "cell_type": "code",
   "execution_count": 136,
   "metadata": {
    "deletable": false,
    "nbgrader": {
     "cell_type": "code",
     "checksum": "357ff8dee98adb78a768e9f690b3245d",
     "grade": true,
     "grade_id": "cell-2ae148d5cb9b50b2",
     "locked": false,
     "points": 5,
     "schema_version": 3,
     "solution": true,
     "task": false
    }
   },
   "outputs": [
    {
     "name": "stdout",
     "output_type": "stream",
     "text": [
      "Predicted Label is: 3 \n",
      "True label is: 3\n"
     ]
    },
    {
     "data": {
      "image/png": "[encoded data removed]",
      "text/plain": [
       "<Figure size 432x288 with 1 Axes>"
      ]
     },
     "metadata": {
      "needs_background": "light"
     },
     "output_type": "display_data"
    },
    {
     "name": "stdout",
     "output_type": "stream",
     "text": [
      "Predicted Label is: 8 \n",
      "True label is: 8\n"
     ]
    },
    {
     "data": {
      "image/png": "[encoded data removed]",
      "text/plain": [
       "<Figure size 432x288 with 1 Axes>"
      ]
     },
     "metadata": {
      "needs_background": "light"
     },
     "output_type": "display_data"
    },
    {
     "name": "stdout",
     "output_type": "stream",
     "text": [
      "Predicted Label is: 6 \n",
      "True label is: 6\n"
     ]
    },
    {
     "data": {
      "image/png": "[encoded data removed]",
      "text/plain": [
       "<Figure size 432x288 with 1 Axes>"
      ]
     },
     "metadata": {
      "needs_background": "light"
     },
     "output_type": "display_data"
    },
    {
     "name": "stdout",
     "output_type": "stream",
     "text": [
      "Predicted Label is: 9 \n",
      "True label is: 9\n"
     ]
    },
    {
     "data": {
      "image/png": "[encoded data removed]",
      "text/plain": [
       "<Figure size 432x288 with 1 Axes>"
      ]
     },
     "metadata": {
      "needs_background": "light"
     },
     "output_type": "display_data"
    },
    {
     "name": "stdout",
     "output_type": "stream",
     "text": [
      "Predicted Label is: 6 \n",
      "True label is: 6\n"
     ]
    },
    {
     "data": {
      "image/png": "[encoded data removed]",
      "text/plain": [
       "<Figure size 432x288 with 1 Axes>"
      ]
     },
     "metadata": {
      "needs_background": "light"
     },
     "output_type": "display_data"
    },
    {
     "name": "stdout",
     "output_type": "stream",
     "text": [
      "Predicted Label is: 9 \n",
      "True label is: 4\n"
     ]
    },
    {
     "data": {
      "image/png": "[encoded data removed]",
      "text/plain": [
       "<Figure size 432x288 with 1 Axes>"
      ]
     },
     "metadata": {
      "needs_background": "light"
     },
     "output_type": "display_data"
    },
    {
     "name": "stdout",
     "output_type": "stream",
     "text": [
      "Predicted Label is: 8 \n",
      "True label is: 5\n"
     ]
    },
    {
     "data": {
      "image/png": "[encoded data removed]",
      "text/plain": [
       "<Figure size 432x288 with 1 Axes>"
      ]
     },
     "metadata": {
      "needs_background": "light"
     },
     "output_type": "display_data"
    },
    {
     "name": "stdout",
     "output_type": "stream",
     "text": [
      "Predicted Label is: 3 \n",
      "True label is: 3\n"
     ]
    },
    {
     "data": {
      "image/png": "[encoded data removed]",
      "text/plain": [
       "<Figure size 432x288 with 1 Axes>"
      ]
     },
     "metadata": {
      "needs_background": "light"
     },
     "output_type": "display_data"
    },
    {
     "name": "stdout",
     "output_type": "stream",
     "text": [
      "Predicted Label is: 8 \n",
      "True label is: 8\n"
     ]
    },
    {
     "data": {
      "image/png": "[encoded data removed]",
      "text/plain": [
       "<Figure size 432x288 with 1 Axes>"
      ]
     },
     "metadata": {
      "needs_background": "light"
     },
     "output_type": "display_data"
    },
    {
     "name": "stdout",
     "output_type": "stream",
     "text": [
      "Predicted Label is: 4 \n",
      "True label is: 4\n"
     ]
    },
    {
     "data": {
      "image/png": "[encoded data removed]",
      "text/plain": [
       "<Figure size 432x288 with 1 Axes>"
      ]
     },
     "metadata": {
      "needs_background": "light"
     },
     "output_type": "display_data"
    }
   ],
   "source": [
    "for i in range(0,10):\n",
    "    prediction = multilogreg.predict(data2.test_x[i],0)[0,0].astype(int)\n",
    "    print(\"Predicted Label is:\", prediction, \"\\nTrue label is:\", data2.test_y[i])\n",
    "    plt.imshow(data2.test_x[i].reshape(28,28), cmap='gray')\n",
    "    plt.show()\n"
   ]
  }
 ],
 "metadata": {
  "kernelspec": {
   "display_name": "Python 3",
   "language": "python",
   "name": "python3"
  },
  "language_info": {
   "codemirror_mode": {
    "name": "ipython",
    "version": 3
   },
   "file_extension": ".py",
   "mimetype": "text/x-python",
   "name": "python",
   "nbconvert_exporter": "python",
   "pygments_lexer": "ipython3",
   "version": "3.7.3"
  }
 },
 "nbformat": 4,
 "nbformat_minor": 4
}
