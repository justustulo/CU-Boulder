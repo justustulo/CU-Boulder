{
 "cells": [
  {
   "cell_type": "markdown",
   "metadata": {},
   "source": [
    "# Homework 3 - SVM and Regularization\n",
    "## CSCI 5622 - Spring 2019\n",
    "***\n",
    "**Name**: $<$Justus Tulowiecki$>$ \n",
    "***\n",
    "\n",
    "This assignment is due on Canvas by **11.59 PM on Monday, March 16**. Submit only this Jupyter notebook to Canvas.  Do not compress it using tar, rar, zip, etc. Your solutions to analysis questions should be done in Markdown directly below the associated question.  Remember that you are encouraged to discuss the problems with your classmates and instructors, but **you must write all code and solutions on your own**, and list any people or sources consulted.\n",
    "\n",
    "Portions of this assignment, including the plotting functions used, are implemented from Andrew Ng's Machine Learning course."
   ]
  },
  {
   "cell_type": "markdown",
   "metadata": {},
   "source": [
    "## Part 1: Lasso and Ridge regression - 40 points"
   ]
  },
  {
   "cell_type": "markdown",
   "metadata": {},
   "source": [
    "We have seen that the difference between LASSO and Ridge regression is due to their different regularization model (L1 norm vs. L2 norm). The regularization term in LASSO is $\\lambda||\\mathbf w||_1$, while the regularization term in ridge regression is  $(\\lambda/2) ||\\mathbf w||^2$ (where $\\mathbf w$ denotes the set of parameters for the linear regression model and $\\lambda$ is the trade-off regularization parameter). LASSO typically enforces more _sparsity_ on the resulting $\\mathbf w$. That is, the resulting classifier will have a small number of non-zero weights. In this exercise, you'll explore differences in performance between LASSO and Ridge regression algorithms across a few different data sets.\n",
    "\n",
    "You will be using the following data sets:"
   ]
  },
  {
   "cell_type": "code",
   "execution_count": 1,
   "metadata": {
    "ExecuteTime": {
     "end_time": "2018-10-30T23:46:14.931653Z",
     "start_time": "2018-10-30T23:46:14.919868Z"
    }
   },
   "outputs": [],
   "source": [
    "import numpy as np\n",
    "import matplotlib.pyplot as plt\n",
    "import pandas as pd\n",
    "%matplotlib inline\n",
    "class DataA:\n",
    "    def __init__(self):\n",
    "        f = lambda x, y : np.random.randn(x, y)\n",
    "        self.train_x = f(1000, 20)\n",
    "        self.train_y = f(1000, 1)[:,0]\n",
    "        self.test_x = f(500, 20)\n",
    "        self.test_y = f(500, 1)[:,0]\n",
    "        \n",
    "class DataB:\n",
    "    def __init__(self):\n",
    "        # Data from: https://archive.ics.uci.edu/ml/datasets/Cloud\n",
    "        data = np.fromfile(\"data/cloud.data\", sep = \" \").reshape((1024, 10))\n",
    "        y = data[:, 6]\n",
    "        X = np.delete(data, 6, axis = 1)\n",
    "        \n",
    "        self.train_x = X[:800]\n",
    "        self.train_y = y[:800]\n",
    "        \n",
    "        self.test_x = X[800:]\n",
    "        self.test_y = y[800:]\n",
    "        \n",
    "class DataC:\n",
    "    def __init__(self):\n",
    "        # Data from: http://archive.ics.uci.edu/ml/datasets/Forest+Fires\n",
    "        data = pd.read_csv(\"data/forestfires.csv\")\n",
    "        data = data.sample(frac = 1).reset_index(drop = True).drop(columns = [\"month\", \"day\"])\n",
    "        data[\"area\"] = np.log(data[\"area\"] + 1)\n",
    "        X = data.drop(columns = \"area\").values\n",
    "        y = data[\"area\"].values\n",
    "        \n",
    "        self.train_x = X[:400]\n",
    "        self.train_y = y[:400]\n",
    "        \n",
    "        self.test_x = X[400:]\n",
    "        self.test_y = y[400:]"
   ]
  },
  {
   "cell_type": "code",
   "execution_count": 2,
   "metadata": {},
   "outputs": [],
   "source": [
    "data_a = DataA()\n",
    "data_b = DataB()\n",
    "data_c = DataC()"
   ]
  },
  {
   "cell_type": "markdown",
   "metadata": {},
   "source": [
    "1. [15 Pts] Fit a regressor to the data set using sklearn's `Lasso` module (for more details, read [here](http://scikit-learn.org/stable/modules/generated/sklearn.linear_model.Lasso.html)):\n",
    "    1. Train a LASSO model for each of the 3 data sets(A, B and C) using 5 different values for the regularization parameter $\\lambda$. Use $\\lambda = 0.01, 0.05, 0.1, 0.2, 0.3$. Report and plot the number of non-zero coefficients.\n",
    "    2. Report the value of $\\lambda$ that yields the minimum number of non-zero coefficients in the resulting $\\mathbf w$ in case of each dataset, and report the number of non-zero coefficients in that case. Keep track of this $\\mathbf w$, we will refer to it as $\\mathbf w_b$. [This step is only needed if any $\\mathbf{w}$ has coefficients that are 0.]\n",
    "    3. For each of the classifiers learned in part (A), compute their test error as mean-squared-error. Plot the test error as function of $\\lambda$ for all three datasets in the same graph.\n",
    "    4. Report the value of $\\lambda$ that yields the $\\mathbf w$ with the minimum test error in case of each dataset. Save this $\\mathbf w$ as $\\mathbf w_d$. How many non-zero coordinates does $\\mathbf w_d$ have? Keep track of this, as well as the answers for $\\mathbf w_b$ for the comparison to Ridge Regression below. It might be helpful to make a table, i.e. the number of non-zero coordinates and the test error for $\\mathbf w_b$ and $\\mathbf w_d$ for each data set.\n",
    "    5. For data set A, by increasing the value of $\\lambda$, can you get most of the entries to be 0? Can you get every entry to be 0?\n",
    "    \n",
    "Note: $\\lambda$ is same as $\\alpha$ in the sklearn module."
   ]
  },
  {
   "cell_type": "code",
   "execution_count": 3,
   "metadata": {},
   "outputs": [
    {
     "name": "stdout",
     "output_type": "stream",
     "text": [
      "------------------- PART (A)---------------------------\n",
      "Num of nonzero coeff. in dataset A for gamma value of 0.01 : 17\n",
      "Num of nonzero coeff. in dataset A for gamma value of 0.05 : 1\n",
      "Num of nonzero coeff. in dataset A for gamma value of 0.1 : 0\n",
      "Num of nonzero coeff. in dataset A for gamma value of 0.2 : 0\n",
      "Num of nonzero coeff. in dataset A for gamma value of 0.3 : 0\n",
      "Num of nonzero coeff. in dataset B for gamma value of 0.01 : 9\n",
      "Num of nonzero coeff. in dataset B for gamma value of 0.05 : 7\n",
      "Num of nonzero coeff. in dataset B for gamma value of 0.1 : 7\n",
      "Num of nonzero coeff. in dataset B for gamma value of 0.2 : 7\n",
      "Num of nonzero coeff. in dataset B for gamma value of 0.3 : 6\n",
      "Num of nonzero coeff. in dataset C for gamma value of 0.01 : 9\n",
      "Num of nonzero coeff. in dataset C for gamma value of 0.05 : 7\n",
      "Num of nonzero coeff. in dataset C for gamma value of 0.1 : 6\n",
      "Num of nonzero coeff. in dataset C for gamma value of 0.2 : 4\n",
      "Num of nonzero coeff. in dataset C for gamma value of 0.3 : 3\n"
     ]
    },
    {
     "data": {
      "image/png": "[encoded data removed]",
      "text/plain": [
       "<Figure size 432x288 with 1 Axes>"
      ]
     },
     "metadata": {
      "needs_background": "light"
     },
     "output_type": "display_data"
    },
    {
     "name": "stdout",
     "output_type": "stream",
     "text": [
      "------------------- PART (B)---------------------------\n",
      "Lambdas that yield the minimum number of non-zero coefficients\n",
      "   Dataset  Alpha\n",
      "2        A    0.1\n",
      "3        A    0.2\n",
      "4        A    0.3\n",
      "9        B    0.3\n",
      "14       C    0.3\n",
      "------------------- PART (C)---------------------------\n"
     ]
    },
    {
     "data": {
      "image/png": "[encoded data removed]",
      "text/plain": [
       "<Figure size 432x288 with 1 Axes>"
      ]
     },
     "metadata": {
      "needs_background": "light"
     },
     "output_type": "display_data"
    },
    {
     "name": "stdout",
     "output_type": "stream",
     "text": [
      "   Dataset  Alpha     Error\n",
      "0        A   0.01  0.974488\n",
      "1        A   0.05  0.971113\n",
      "2        A   0.10  0.971253\n",
      "3        A   0.20  0.971253\n",
      "4        A   0.30  0.971253\n",
      "5        B   0.01  0.135084\n",
      "6        B   0.05  0.243201\n",
      "7        B   0.10  0.285262\n",
      "8        B   0.20  0.376322\n",
      "9        B   0.30  0.430763\n",
      "10       C   0.01  1.286179\n",
      "11       C   0.05  1.284635\n",
      "12       C   0.10  1.283403\n",
      "13       C   0.20  1.282576\n",
      "14       C   0.30  1.279476\n",
      "------------------- PART (D)---------------------------\n",
      "Alpha values that produce the minimum test error:\n",
      "\n",
      "   Dataset  Alpha     Error  # Nonzero Weights\n",
      "1        A   0.05  0.971113                  1\n",
      "5        B   0.01  0.135084                  9\n",
      "14       C   0.30  1.279476                  3\n",
      "------------------- PART (E)---------------------------\n",
      "As seen in part A, as the value of lambda increases for dataset A, most(or even all) of the entires can be forced to 0\n"
     ]
    }
   ],
   "source": [
    "from sklearn import linear_model\n",
    "from sklearn.metrics import mean_squared_error\n",
    "from sklearn.metrics import accuracy_score\n",
    "from matplotlib.pylab import plt\n",
    "import math\n",
    "\n",
    "class Lasso:\n",
    "    def __init__(self, gamma, data):\n",
    "        self.gamma = gamma\n",
    "        self.data = data\n",
    "        \n",
    "        self.w = np.array([])\n",
    "        \n",
    "    def fit(self):\n",
    "        '''\n",
    "        Here you must fit a Lasso model, train it using the data you have in self.data, \n",
    "        specifically the training part, for the specified value of gamma in self.gamma. \n",
    "        Calculate the number of non-zero coefficients in the model weights. Then,\n",
    "        test the trained model on the testing part of the data in self.data and calculate the\n",
    "        Root mean square error between the predicted values and the actual values of target variable.\n",
    "        \n",
    "        RETURN : \n",
    "            num_nonzero_coeff : number of non-zero coefficients in the model weights\n",
    "            mean_squared_err : Root mean square error between the predicted values and the \n",
    "            actual values of target variable\n",
    "        '''\n",
    "        \n",
    "        lasso = linear_model.Lasso(self.gamma)\n",
    "        lasso.fit(self.data.train_x, self.data.train_y)\n",
    "        num_nonzero_coef = np.where(lasso.coef_ != 0 ,1,0).sum()\n",
    "        self.w = lasso.coef_\n",
    "        pred = lasso.predict(self.data.test_x)\n",
    "        mean_squared_err = np.sqrt(mean_squared_error(pred, self.data.test_y))\n",
    "        return(num_nonzero_coef, mean_squared_err, pred)\n",
    "\n",
    "\n",
    "\n",
    "data_sets = {'A': data_a, 'B': data_b, 'C': data_c}\n",
    "alphas = [0.01, 0.05, 0.1, 0.2, 0.3]\n",
    "\n",
    "\n",
    "\n",
    "\n",
    "print('------------------- PART (A)---------------------------')\n",
    "\n",
    "nonzero_list = []\n",
    "templist = []\n",
    "\n",
    "for key, dset in data_sets.items():\n",
    "    for a in alphas:\n",
    "        lasso = Lasso(a, dset) #instantiate a Lasso model for given alpha(a) and dataset(dset)\n",
    "        model = lasso.fit()\n",
    "        nonzero_list.append(model[0])                            #append number of non zero weights to a list\n",
    "        print(\"Num of nonzero coeff. in dataset\",key, \"for gamma value of\", a,\":\", model[0])\n",
    "        \n",
    "        templist.append(((key, a, model[0], lasso.w, model[1], model[2]))) #temporary list that will be converted to dataframe later\n",
    "\n",
    "        \n",
    "nonzero_arr = np.asarray(nonzero_list)\n",
    "nonzero_arr = np.transpose(nonzero_arr.reshape(3,5))\n",
    "df = pd.DataFrame(data = templist, columns=['Dataset', 'Alpha', '# Nonzero Weights', 'Weights', 'Error', 'Pred'])\n",
    "\n",
    "plt.plot(alphas, nonzero_arr)\n",
    "plt.title(\"Number of Non-zero Weights for Each Alpha\")\n",
    "plt.xlabel(\"Alphas\")\n",
    "plt.ylabel(\"Number of Non-zero Weights\")\n",
    "plt.legend(['Dataset A','Dataset B','Dataset C'])\n",
    "plt.show()\n",
    "\n",
    "\n",
    "\n",
    "print('------------------- PART (B)---------------------------')\n",
    "#Report the value of  𝜆  that yields the minimum number of non-zero coefficients in the resulting  \n",
    "#𝐰  in case of each dataset, and report the number of non-zero coefficients in that case. Keep track of this  \n",
    "#𝐰 , we will refer to it as  𝐰𝑏 . [This step is only needed if any  𝐰  has coefficients that are 0.]\n",
    "\n",
    "#Subset the dataframes for each dataset\n",
    "Adf = df[df.iloc[:,0] == 'A']\n",
    "Bdf = df[df.iloc[:,0] == 'B']\n",
    "Cdf = df[df.iloc[:,0] == 'C']\n",
    "\n",
    "Awb_mask = (Adf.iloc[:,2] == Adf.iloc[:,2].min()) #creates mask for lambda that yields the minimum # of non-zero coeff\n",
    "Bwb_mask = Bdf.iloc[:,2] == Bdf.iloc[:,2].min()\n",
    "Cwb_mask = Cdf.iloc[:,2] == Cdf.iloc[:,2].min()\n",
    "\n",
    "cols = ['Dataset','Alpha','Error', '# Nonzero Weights']\n",
    "\n",
    "Awb = Adf[Awb_mask][cols]\n",
    "Bwb = Bdf[Bwb_mask][cols]\n",
    "Cwb = Cdf[Cwb_mask][cols]\n",
    "\n",
    "wb_lasso = Awb.append(Bwb).append(Cwb)\n",
    "\n",
    "#Print the rows for each dataset where there is a minimum of non-zero coefficients\n",
    "print(\"Lambdas that yield the minimum number of non-zero coefficients\")\n",
    "print(Adf[Awb_mask].iloc[:,:2].append(Bdf[Bwb_mask].iloc[:,:2]).append(Cdf[Cwb_mask].iloc[:,:2]) )\n",
    "\n",
    "print('------------------- PART (C)---------------------------')\n",
    "#For each of the classifiers learned in part (A), compute their test error as mean-squared-error. Plot the test error as function of  𝜆  for all three datasets in the same grap\n",
    "\n",
    "plt.plot('Alpha', 'Error', data=Adf)\n",
    "plt.plot('Alpha', 'Error', data=Bdf)\n",
    "plt.plot('Alpha', 'Error', data=Cdf)\n",
    "plt.title(\"RMSE for Different Alphas\")\n",
    "plt.xlabel(\"Alphas\")\n",
    "plt.ylabel(\"RMSE\")\n",
    "plt.legend(['Dataset A','Dataset B','Dataset C'])\n",
    "plt.show()\n",
    "\n",
    "print(df[['Dataset', 'Alpha', 'Error']])\n",
    "\n",
    "\n",
    "print('------------------- PART (D)---------------------------')\n",
    "#Report the value of  𝜆  that yields the  𝐰  with the minimum test error in case of each dataset. Save this  𝐰  as  𝐰𝑑 .\n",
    "#How many non-zero coordinates does  𝐰𝑑  have? Keep track of this, as well as the answers for  𝐰𝑏 \n",
    "#for the comparison to Ridge Regression below. It might be helpful to make a table, i.e. the number of non-zero coordinates and the test error for  𝐰𝑏  and  𝐰𝑑  for each data set.\n",
    "alphas_rep = np.repeat(alphas,3).reshape(5,3)\n",
    "\n",
    "Aerr_mask = Adf['Error'] == np.amin(Adf['Error'],axis=0) #find the rows that contain the minimum error\n",
    "Berr_mask = Bdf['Error'] == np.amin(Bdf['Error'],axis=0)\n",
    "Cerr_mask = Cdf['Error'] == np.amin(Cdf['Error'],axis=0)\n",
    "\n",
    "Amin_err = Adf[Aerr_mask]  #get rows values for A that produced the minimum erro\n",
    "Bmin_err = Bdf[Berr_mask] \n",
    "Cmin_err = Cdf[Cerr_mask]\n",
    "\n",
    "wd_lasso = Amin_err[cols].append(Bmin_err[cols]).append(Cmin_err[cols])\n",
    "\n",
    "print('Alpha values that produce the minimum test error:\\n')\n",
    "print(wd_lasso)\n",
    "\n",
    "\n",
    "print('------------------- PART (E)---------------------------')\n",
    "print('As seen in part A, as the value of lambda increases for dataset A, most(or even all) of the entires can be forced to 0')\n"
   ]
  },
  {
   "cell_type": "markdown",
   "metadata": {},
   "source": [
    "2. [15 pts] Now, we turn to Ridge regression. We'll use sklearn module `Ridge` (read more [here](http://scikit-learn.org/stable/modules/generated/sklearn.linear_model.Ridge.html#sklearn.linear_model.Ridge)). Repeat each of the experiments A-E above using Ridge regression. Use $\\lambda = 1, 50, 100, 200, 1000$."
   ]
  },
  {
   "cell_type": "code",
   "execution_count": 4,
   "metadata": {},
   "outputs": [
    {
     "name": "stdout",
     "output_type": "stream",
     "text": [
      "------------------- PART (A)---------------------------\n",
      "Num of nonzero coeff. in dataset A for gamma value of 1 : 20\n",
      "Num of nonzero coeff. in dataset A for gamma value of 50 : 20\n",
      "Num of nonzero coeff. in dataset A for gamma value of 100 : 20\n",
      "Num of nonzero coeff. in dataset A for gamma value of 200 : 20\n",
      "Num of nonzero coeff. in dataset A for gamma value of 1000 : 20\n",
      "Num of nonzero coeff. in dataset B for gamma value of 1 : 9\n",
      "Num of nonzero coeff. in dataset B for gamma value of 50 : 9\n",
      "Num of nonzero coeff. in dataset B for gamma value of 100 : 9\n",
      "Num of nonzero coeff. in dataset B for gamma value of 200 : 9\n",
      "Num of nonzero coeff. in dataset B for gamma value of 1000 : 9\n",
      "Num of nonzero coeff. in dataset C for gamma value of 1 : 10\n",
      "Num of nonzero coeff. in dataset C for gamma value of 50 : 10\n",
      "Num of nonzero coeff. in dataset C for gamma value of 100 : 10\n",
      "Num of nonzero coeff. in dataset C for gamma value of 200 : 10\n",
      "Num of nonzero coeff. in dataset C for gamma value of 1000 : 10\n"
     ]
    },
    {
     "data": {
      "image/png": "[encoded data removed]",
      "text/plain": [
       "<Figure size 432x288 with 1 Axes>"
      ]
     },
     "metadata": {
      "needs_background": "light"
     },
     "output_type": "display_data"
    },
    {
     "name": "stdout",
     "output_type": "stream",
     "text": [
      "------------------- PART (B)---------------------------\n",
      "Lambdas that yield the minimum number of non-zero coefficients\n",
      "   Dataset  Alpha\n",
      "0        A      1\n",
      "1        A     50\n",
      "2        A    100\n",
      "3        A    200\n",
      "4        A   1000\n",
      "5        B      1\n",
      "6        B     50\n",
      "7        B    100\n",
      "8        B    200\n",
      "9        B   1000\n",
      "10       C      1\n",
      "11       C     50\n",
      "12       C    100\n",
      "13       C    200\n",
      "14       C   1000\n",
      "------------------- PART (C)---------------------------\n"
     ]
    },
    {
     "data": {
      "image/png": "[encoded data removed]",
      "text/plain": [
       "<Figure size 432x288 with 1 Axes>"
      ]
     },
     "metadata": {
      "needs_background": "light"
     },
     "output_type": "display_data"
    },
    {
     "name": "stdout",
     "output_type": "stream",
     "text": [
      "   Dataset  Alpha     Error\n",
      "0        A   0.01  0.974488\n",
      "1        A   0.05  0.971113\n",
      "2        A   0.10  0.971253\n",
      "3        A   0.20  0.971253\n",
      "4        A   0.30  0.971253\n",
      "5        B   0.01  0.135084\n",
      "6        B   0.05  0.243201\n",
      "7        B   0.10  0.285262\n",
      "8        B   0.20  0.376322\n",
      "9        B   0.30  0.430763\n",
      "10       C   0.01  1.286179\n",
      "11       C   0.05  1.284635\n",
      "12       C   0.10  1.283403\n",
      "13       C   0.20  1.282576\n",
      "14       C   0.30  1.279476\n",
      "------------------- PART (D)---------------------------\n",
      "Alpha values that produce the minimum test error:\n",
      "\n",
      "   Dataset  Alpha     Error  # Nonzero Weights\n",
      "4        A   1000  0.973628                 20\n",
      "5        B      1  0.060665                  9\n",
      "14       C   1000  1.283027                 10\n",
      "------------------- PART (E)---------------------------\n",
      "As seen in part A, it is not possible to set all the coefficients to 0. This is because ridge regression uses the l2 norm as penalty which can set weights close to 0, but not equal to 0\n"
     ]
    }
   ],
   "source": [
    "from sklearn.linear_model import Ridge\n",
    "from sklearn.metrics import mean_squared_error\n",
    "from sklearn.metrics import accuracy_score\n",
    "\n",
    "class Ridge:\n",
    "    def __init__(self, gamma, data):\n",
    "        self.gamma = gamma\n",
    "        self.data = data\n",
    "        \n",
    "        self.w = np.array([])\n",
    "        \n",
    "    def fit(self):\n",
    "        '''\n",
    "        Here you must fit a Ridge model, train it using the data you have in self.data, \n",
    "        specifically the training part, for the specified value of gamma in self.gamma. \n",
    "        Calculate the number of non-zero coefficients in the model weights. Then,\n",
    "        test the trained model on the testing part of the data in self.data and calculate the\n",
    "        Root mean square error between the predicted values and the actual values of target variable.\n",
    "        \n",
    "        RETURN : \n",
    "            num_nonzero_coeff : number of non-zero coefficients in the model weights\n",
    "            mean_squared_err : Root mean square error between the predicted values and the \n",
    "            actual values of target variable\n",
    "        '''\n",
    "        \n",
    "        ridge = linear_model.Ridge(self.gamma)\n",
    "        ridge.fit(self.data.train_x, self.data.train_y)\n",
    "        num_nonzero_coef = np.where(ridge.coef_ != 0 ,1,0).sum()\n",
    "        self.w = ridge.coef_\n",
    "        pred = ridge.predict(self.data.test_x)\n",
    "        mean_squared_err = np.sqrt(mean_squared_error(pred, self.data.test_y))\n",
    "        return(num_nonzero_coef, mean_squared_err, pred)\n",
    "\n",
    "\n",
    "\n",
    "data_sets = {'A': data_a, 'B': data_b, 'C': data_c}\n",
    "alphas = [1, 50, 100, 200, 1000]\n",
    "\n",
    "\n",
    "\n",
    "\n",
    "print('------------------- PART (A)---------------------------')\n",
    "\n",
    "nonzero_list_r = []\n",
    "templist_r = []\n",
    "\n",
    "for key, dset in data_sets.items():\n",
    "    for a in alphas:\n",
    "        ridge = Ridge(a, dset) #instantiate a Lasso model for given alpha(a) and dataset(dset)\n",
    "        model_r = ridge.fit()\n",
    "        nonzero_list_r.append(model_r[0])                            #append number of non zero weights to a list\n",
    "        print(\"Num of nonzero coeff. in dataset\",key, \"for gamma value of\", a,\":\", model_r[0])\n",
    "        \n",
    "        templist_r.append(((key, a, model_r[0], ridge.w, model_r[1], model_r[2]))) #temporary list that will be converted to dataframe later\n",
    "\n",
    "        \n",
    "nonzero_arr_r = np.asarray(nonzero_list_r)\n",
    "nonzero_arr_r = np.transpose(nonzero_arr_r.reshape(3,5))\n",
    "df_r = pd.DataFrame(data = templist_r, columns=['Dataset', 'Alpha', '# Nonzero Weights', 'Weights', 'Error', 'Pred'])\n",
    "\n",
    "\n",
    "plt.plot(alphas, nonzero_arr_r)\n",
    "plt.title(\"Number of Non-zero Weights for Each Alpha\")\n",
    "plt.xlabel(\"Alphas\")\n",
    "plt.ylabel(\"Number of Non-zero Weights\")\n",
    "plt.legend(['Dataset A','Dataset B','Dataset C'])\n",
    "plt.show()\n",
    "\n",
    "\n",
    "\n",
    "print('------------------- PART (B)---------------------------')\n",
    "#Report the value of  𝜆  that yields the minimum number of non-zero coefficients in the resulting  \n",
    "#𝐰  in case of each dataset, and report the number of non-zero coefficients in that case. Keep track of this  \n",
    "#𝐰 , we will refer to it as  𝐰𝑏 . [This step is only needed if any  𝐰  has coefficients that are 0.]\n",
    "\n",
    "#Subset the dataframes for each dataset\n",
    "Adf_r = df_r[df_r.iloc[:,0] == 'A']\n",
    "Bdf_r = df_r[df_r.iloc[:,0] == 'B']\n",
    "Cdf_r = df_r[df_r.iloc[:,0] == 'C']\n",
    "\n",
    "Awb_mask_r = Adf_r.iloc[:,2] == Adf_r.iloc[:,2].min() #creates mask for lambda that yields the minimum # of non-zero coeff\n",
    "Bwb_mask_r = Bdf_r.iloc[:,2] == Bdf_r.iloc[:,2].min()\n",
    "Cwb_mask_r = Cdf_r.iloc[:,2] == Cdf_r.iloc[:,2].min()\n",
    "\n",
    "cols = ['Dataset','Alpha','Error', '# Nonzero Weights']\n",
    "\n",
    "Awb_r = Adf_r[Awb_mask_r][cols]\n",
    "Bwb_r = Bdf_r[Bwb_mask_r][cols]\n",
    "Cwb_r = Cdf_r[Cwb_mask_r][cols]\n",
    "\n",
    "wb_ridge = Awb_r.append(Bwb_r).append(Cwb_r)\n",
    "\n",
    "#Print the rows for each dataset where there is a minimum of non-zero coefficients\n",
    "print(\"Lambdas that yield the minimum number of non-zero coefficients\")\n",
    "print(Adf_r[Awb_mask_r].iloc[:,:2].append(Bdf_r[Bwb_mask_r].iloc[:,:2]).append(Cdf_r[Cwb_mask_r].iloc[:,:2]) )\n",
    "\n",
    "print('------------------- PART (C)---------------------------')\n",
    "#For each of the classifiers learned in part (A), compute their test error as mean-squared-error. Plot the test error as function of  𝜆  for all three datasets in the same grap\n",
    "\n",
    "plt.plot('Alpha', 'Error', data=Adf_r)\n",
    "plt.plot('Alpha', 'Error', data=Bdf_r)\n",
    "plt.plot('Alpha', 'Error', data=Cdf_r)\n",
    "plt.title(\"RMSE for Different Gamma\")\n",
    "plt.xlabel(\"Gamma\")\n",
    "plt.ylabel(\"RMSE\")\n",
    "plt.legend(['Dataset A','Dataset B','Dataset C'])\n",
    "plt.show()\n",
    "\n",
    "print(df[['Dataset', 'Alpha', 'Error']])\n",
    "\n",
    "\n",
    "print('------------------- PART (D)---------------------------')\n",
    "#Report the value of  𝜆  that yields the  𝐰  with the minimum test error in case of each dataset. Save this  𝐰  as  𝐰𝑑 .\n",
    "#How many non-zero coordinates does  𝐰𝑑  have? Keep track of this, as well as the answers for  𝐰𝑏 \n",
    "#for the comparison to Ridge Regression below. It might be helpful to make a table, i.e. the number of non-zero coordinates and the test error for  𝐰𝑏  and  𝐰𝑑  for each data set.\n",
    "alphas_rep = np.repeat(alphas,3).reshape(5,3)\n",
    "\n",
    "Aerr_mask_r = Adf_r['Error'] == np.amin(Adf_r['Error'],axis=0) #find the rows that contain the minimum error\n",
    "Berr_mask_r = Bdf_r['Error'] == np.amin(Bdf_r['Error'],axis=0)\n",
    "Cerr_mask_r = Cdf_r['Error'] == np.amin(Cdf_r['Error'],axis=0)\n",
    "\n",
    "Amin_err_r = Adf_r[Aerr_mask_r]  #get rows values for A that produced the minimum erro\n",
    "Bmin_err_r = Bdf_r[Berr_mask_r] \n",
    "Cmin_err_r = Cdf_r[Cerr_mask_r]\n",
    "\n",
    "wd_ridge = Amin_err_r[cols].append(Bmin_err_r[cols]).append(Cmin_err_r[cols]) \n",
    "\n",
    "print('Alpha values that produce the minimum test error:\\n')\n",
    "print(wd_ridge)\n",
    "\n",
    "\n",
    "print('------------------- PART (E)---------------------------')\n",
    "print('As seen in part A, it is not possible to set all the coefficients to 0. This is because ridge regression uses the l2 norm as penalty which can set weights close to 0, but not equal to 0')\n"
   ]
  },
  {
   "cell_type": "markdown",
   "metadata": {},
   "source": [
    "3. [10 pts] Compare the two algorithms on each data set: compare the number of non-zero coordinates of the $\\mathbf w_d$'s, and compare the test error rates of the $\\mathbf w_b$'s. Report your results and comment on them."
   ]
  },
  {
   "cell_type": "code",
   "execution_count": 5,
   "metadata": {},
   "outputs": [
    {
     "name": "stdout",
     "output_type": "stream",
     "text": [
      "Comparing wd's\n",
      "Lasso:    Dataset  Alpha     Error  # Nonzero Weights\n",
      "1        A   0.05  0.971113                  1\n",
      "5        B   0.01  0.135084                  9\n",
      "14       C   0.30  1.279476                  3 \n",
      "\n",
      "Ridge:    Dataset  Alpha     Error  # Nonzero Weights\n",
      "4        A   1000  0.973628                 20\n",
      "5        B      1  0.060665                  9\n",
      "14       C   1000  1.283027                 10\n",
      "\n",
      "\n",
      "Comparing wb's\n",
      "Lasso:    Dataset  Alpha     Error  # Nonzero Weights\n",
      "2        A    0.1  0.971253                  0\n",
      "3        A    0.2  0.971253                  0\n",
      "4        A    0.3  0.971253                  0\n",
      "9        B    0.3  0.430763                  6\n",
      "14       C    0.3  1.279476                  3 \n",
      "\n",
      "Ridge:    Dataset  Alpha     Error  # Nonzero Weights\n",
      "0        A      1  0.980786                 20\n",
      "1        A     50  0.979890                 20\n",
      "2        A    100  0.979102                 20\n",
      "3        A    200  0.977825                 20\n",
      "4        A   1000  0.973628                 20\n",
      "5        B      1  0.060665                  9\n",
      "6        B     50  0.199285                  9\n",
      "7        B    100  0.222891                  9\n",
      "8        B    200  0.252854                  9\n",
      "9        B   1000  0.345269                  9\n",
      "10       C      1  1.286589                 10\n",
      "11       C     50  1.285990                 10\n",
      "12       C    100  1.285438                 10\n",
      "13       C    200  1.284631                 10\n",
      "14       C   1000  1.283027                 10\n"
     ]
    }
   ],
   "source": [
    "print(\"Comparing wd's\")\n",
    "print(\"Lasso:\", wd_lasso, \"\\n\\nRidge:\", wd_ridge)\n",
    "\n",
    "print(\"\\n\\nComparing wb's\")\n",
    "print(\"Lasso:\", wb_lasso, \"\\n\\nRidge:\", wb_ridge)"
   ]
  },
  {
   "cell_type": "markdown",
   "metadata": {},
   "source": [
    "Dataset A and wd:\n",
    "Lasso had multiple values for alpha in which the number of nonzero weights was 0. However, the ridge regression did not have any weights that were 0 (all 20 weights were nonzero).\n",
    "\n",
    "Dataset A and wb:\n",
    "Overall error was higher for ridge regression than for lasso regression for dataset A.\n",
    "\n",
    "\n",
    "Dataset B and wd:\n",
    "The minimum number of non-zero weights for dataset B in lasso is 9, which is incidently the same as Ridge regression. Thus, no weights were made 0 for lasso regression.\n",
    "\n",
    "Dataset B and wb:\n",
    "Overall, the error rates for ridge regression were lower than Lasso.\n",
    "\n",
    "\n",
    "Dataset C and wd:\n",
    "Lasso has weights that were set equal to 0, as there are only 4 nonzero weights while Ridge has 10 nonzero weights.\n",
    "\n",
    "Dataset C and wb:\n",
    "Overall the rates were very similar between Lasso and Ridge for dataset C. Ridge regression appears to be marginally lower than Lasso across the different gamma(alpha/lambda) values."
   ]
  },
  {
   "cell_type": "markdown",
   "metadata": {},
   "source": [
    "## Part 2: Visualizing Data and Decision Boundaries for different kernels - 20 points"
   ]
  },
  {
   "cell_type": "markdown",
   "metadata": {},
   "source": [
    "We've also been exploring the world of support vector machines and Kernels, so to understand these systems a little better, let's start by building a few ourselves."
   ]
  },
  {
   "cell_type": "markdown",
   "metadata": {},
   "source": [
    "### A. Training SVM with Linear Kernel (Dataset 1)"
   ]
  },
  {
   "cell_type": "code",
   "execution_count": 6,
   "metadata": {},
   "outputs": [
    {
     "data": {
      "image/png": "[encoded data removed]",
      "text/plain": [
       "<Figure size 432x288 with 1 Axes>"
      ]
     },
     "metadata": {
      "needs_background": "light"
     },
     "output_type": "display_data"
    }
   ],
   "source": [
    "import numpy as np\n",
    "import scipy.io as sio\n",
    "import matplotlib.pyplot as plt\n",
    "\n",
    "from plot_data import plot_data\n",
    "\n",
    "\n",
    "# Load from data1\n",
    "mat_data = sio.loadmat('./data/data1.mat')\n",
    "X = mat_data['X']\n",
    "y = mat_data['y'].ravel()\n",
    "\n",
    "# Plot training data\n",
    "plt.figure()\n",
    "plot_data(X, y)\n",
    "plt.xlim([0, 4.5])\n",
    "plt.ylim([1.5, 5])\n",
    "plt.title(\"Dataset 1\")\n",
    "plt.show()"
   ]
  },
  {
   "cell_type": "markdown",
   "metadata": {},
   "source": [
    "**A:** [10 pts] In `data1.mat`, most of the positive and negative examples can be separated by a single line. We'll train an SVM with a linear kernel (look at `sklearn.svm.LinearSVC`) with C = 1 and plot the decision boundary using `visualize_boundary_linear(X, y, clf)`. `clf` is the SVM classifier. For the classifier, you should use the scikit-learn implementation. Add the decision boundary, uncomment the visualization, and verify it in the graph below."
   ]
  },
  {
   "cell_type": "code",
   "execution_count": 7,
   "metadata": {},
   "outputs": [
    {
     "data": {
      "image/png": "[encoded data removed]",
      "text/plain": [
       "<Figure size 432x288 with 1 Axes>"
      ]
     },
     "metadata": {
      "needs_background": "light"
     },
     "output_type": "display_data"
    }
   ],
   "source": [
    "# SOLUTION \n",
    "from sklearn import svm\n",
    "from visualize_boundary_linear import visualize_boundary_linear\n",
    "\n",
    "### START CODE HERE ### (approx. 3 lines)\n",
    "C = 1\n",
    "clf = svm.LinearSVC(C=C)\n",
    "clf.fit(X,y)\n",
    "### END CODE HERE ### \n",
    "\n",
    "\n",
    "plt.figure()\n",
    "visualize_boundary_linear(X, y, clf)\n",
    "plt.xlim([0, 4.5])\n",
    "plt.ylim([1.5, 5])\n",
    "plt.title(\"Dataset 1\")\n",
    "plt.show()"
   ]
  },
  {
   "cell_type": "markdown",
   "metadata": {},
   "source": [
    "### B. Training SVM with RBF Kernel (Dataset 2)"
   ]
  },
  {
   "cell_type": "code",
   "execution_count": 8,
   "metadata": {},
   "outputs": [
    {
     "data": {
      "image/png": "[encoded data removed]",
      "text/plain": [
       "<Figure size 432x288 with 1 Axes>"
      ]
     },
     "metadata": {
      "needs_background": "light"
     },
     "output_type": "display_data"
    }
   ],
   "source": [
    "# Load from data2\n",
    "mat_data = sio.loadmat('./data/data2.mat')\n",
    "X = mat_data['X']\n",
    "y = mat_data['y'].ravel()\n",
    "\n",
    "# Plot training data\n",
    "plt.figure()\n",
    "plot_data(X, y)\n",
    "plt.xlim([0, 1])\n",
    "plt.ylim([0.4, 1])\n",
    "plt.title(\"Dataset 2\")\n",
    "plt.show()"
   ]
  },
  {
   "cell_type": "markdown",
   "metadata": {},
   "source": [
    "**B** [10 pts] In `data2.mat`, the positive and negative data points are not linearly separable. For this dataset, construct an SVM classifier with a Gaussian kernel (look at `sklearn.svm.SVC`) to learn a non-linear decision boundary. You should use the scikit-learn implementation for the same. To plot the decision boundary use `visualize_boundary(X, y, clf)`. As before, implement the decision boundary, uncomment the visualization, and verify it in the graph below."
   ]
  },
  {
   "cell_type": "code",
   "execution_count": 9,
   "metadata": {},
   "outputs": [
    {
     "name": "stderr",
     "output_type": "stream",
     "text": [
      "C:\\Users\\JT\\Anaconda3\\lib\\site-packages\\matplotlib\\contour.py:1243: UserWarning: No contour levels were found within the data range.\n",
      "  warnings.warn(\"No contour levels were found\"\n"
     ]
    },
    {
     "data": {
      "image/png": "[encoded data removed]",
      "text/plain": [
       "<Figure size 432x288 with 1 Axes>"
      ]
     },
     "metadata": {
      "needs_background": "light"
     },
     "output_type": "display_data"
    }
   ],
   "source": [
    "from visualize_boundary import visualize_boundary\n",
    "\n",
    "# SVM Parameters to be used\n",
    "C = 100\n",
    "gamma = 10\n",
    "kernel = 'rbf'\n",
    "\n",
    "### START CODE HERE ### (approx. 3 lines)\n",
    "clf = svm.SVC(C=C, gamma=gamma, kernel=kernel)\n",
    "clf.fit(X,y)\n",
    "### END CODE HERE ### \n",
    "\n",
    "plt.figure()\n",
    "visualize_boundary(X, y, clf)\n",
    "plt.xlim([0, 1])\n",
    "plt.ylim([0.4, 1])\n",
    "plt.title(\"Dataset 2\")\n",
    "plt.show()"
   ]
  },
  {
   "cell_type": "markdown",
   "metadata": {},
   "source": [
    "## Part 3: Kernel Perceptron - 40 points"
   ]
  },
  {
   "cell_type": "markdown",
   "metadata": {},
   "source": [
    "Now that we've seen the SKLearn implementation of some different kernels, we'll be working to implement some of our own kernel transformations, but we'll work within the perceptron space. Implement the Kernel Perceptron as described in the lecture using different kernel functions (Linear, Polynomial, and Gaussian RBF). Use the training and test data provided below to train and test your implementation. Report the error rate for each kernel function."
   ]
  },
  {
   "cell_type": "markdown",
   "metadata": {},
   "source": [
    "**A:** [20 pts] Implement the kernel functions below:"
   ]
  },
  {
   "cell_type": "code",
   "execution_count": 10,
   "metadata": {},
   "outputs": [],
   "source": [
    "import numpy as np\n",
    "from numpy import linalg\n",
    "\n",
    "def linear_kernel(x1, x2):\n",
    "    lin_kern = np.dot(np.transpose(x1),x2)\n",
    "    return(lin_kern)\n",
    "\n",
    "def polynomial_kernel(x, y, p = 3):\n",
    "    poly_kern = np.power(linear_kernel(x,y)+1,p) \n",
    "    return(poly_kern)\n",
    "    \n",
    "def gaussian_kernel(x, y, sigma = 0.5):\n",
    "    gauss_kern = np.exp(-1*np.power(linalg.norm(x-y),2)/(2*np.power(sigma,2)))\n",
    "    return(gauss_kern)\n",
    "\n"
   ]
  },
  {
   "cell_type": "code",
   "execution_count": 11,
   "metadata": {},
   "outputs": [
    {
     "name": "stderr",
     "output_type": "stream",
     "text": [
      "...\n",
      "----------------------------------------------------------------------\n",
      "Ran 3 tests in 0.004s\n",
      "\n",
      "OK\n"
     ]
    },
    {
     "data": {
      "text/plain": [
       "<unittest.runner.TextTestResult run=3 errors=0 failures=0>"
      ]
     },
     "execution_count": 11,
     "metadata": {},
     "output_type": "execute_result"
    }
   ],
   "source": [
    "import unittest\n",
    "\n",
    "class TestKernels(unittest.TestCase):\n",
    "    \n",
    "    def setUp(self):\n",
    "        self.x1 = np.array([1, 2, 1])\n",
    "        self.x2 = np.array([0, 4, -1])\n",
    "        \n",
    "    def test0(self):\n",
    "        \"\"\"\n",
    "        WARNING : DO NOT CHANGE THE UNIT TESTS\n",
    "        Test the linear kernel\n",
    "        \"\"\"\n",
    "        self.assertEqual(linear_kernel(self.x1, self.x2), 7)\n",
    "    \n",
    "    def test_polynomial_kernel(self):\n",
    "        \"\"\"\n",
    "        WARNING : DO NOT CHANGE THE UNIT TESTS\n",
    "        Test the polynomial kernel\n",
    "        \"\"\"\n",
    "        self.assertEqual(polynomial_kernel(self.x1, self.x2), 512)\n",
    "        \n",
    "    def test_gaussian_kernel(self):\n",
    "        \"\"\"\n",
    "        WARNING : DO NOT CHANGE THE UNIT TESTS\n",
    "        Test the gaussian kernel\n",
    "        \"\"\"\n",
    "        self.assertAlmostEqual(gaussian_kernel(self.x1, self.x2) * 10 ** 8, 1.52299, 4)\n",
    "    \n",
    "\n",
    "tests = TestKernels()\n",
    "tests_to_run = unittest.TestLoader().loadTestsFromModule(tests)\n",
    "unittest.TextTestRunner().run(tests_to_run)\n",
    "            "
   ]
  },
  {
   "cell_type": "markdown",
   "metadata": {},
   "source": [
    "**B:** [20 pts] Implement the following methods of the `KernelPerceptron` class. The `__init__` takes also as input the kernel to use. You are allowed to introduce new class variables/methods.\n",
    "\n",
    "* Implement the `fit` method. Taking as input the training data, it learns the model parameters\n",
    "* Implement the `predict` method which takes as input new examples and returns the estimated label "
   ]
  },
  {
   "cell_type": "code",
   "execution_count": 12,
   "metadata": {},
   "outputs": [],
   "source": [
    "class KernelPerceptron:\n",
    "    def __init__(self, kernel = linear_kernel, Niter = 1):\n",
    "        \n",
    "        self.kernel = kernel\n",
    "        self.Niter = Niter\n",
    "        self.support_vector_x = None\n",
    "        self.support_vector_y = None\n",
    "        self.alpha = None\n",
    "        \n",
    "    def fit(self, X, y):\n",
    "        '''\n",
    "        Estimate model parameters i.e the support vectors here and store them in the\n",
    "        class variable self.support_vector_x and self.support_vector_y\n",
    "        '''\n",
    "        kern_matrix = np.zeros((X.shape[0],X.shape[0]))\n",
    "        self.alpha = np.zeros(X.shape[0])\n",
    "        \n",
    "        #using Kernel Matrix idea as shown in http://aritter.github.io/courses/5523_slides/kernels.pdf \n",
    "        ##### Alternate implementation #####\n",
    "        #for a in range(X.shape[0]):\n",
    "         #   for b in range(X.shape[0]):\n",
    "          #      kern_matrix[a,b] = self.kernel(X[a],X[b])\n",
    "        \n",
    "        for n in range(self.Niter):\n",
    "            for i in range(X.shape[0]):\n",
    "                sum_total = 0\n",
    "                for j in range(X.shape[0]):\n",
    "                    kern = self.kernel(X[i],X[j])\n",
    "                    sum_total = sum_total + kern*self.alpha[j]*y[j]\n",
    "        \n",
    "        #    y_hat = np.sign(np.sum(kern_matrix[:,j]*self.alpha*y))\n",
    "        \n",
    "                y_hat = np.sign(sum_total)\n",
    "                if y_hat != y[i]:\n",
    "                    self.alpha[i] = self.alpha[i] + 1\n",
    "\n",
    "        mask = self.alpha > 0\n",
    "        self.alpha = self.alpha[mask]\n",
    "        self.support_vector_x = X[mask]\n",
    "        self.support_vector_y = y[mask]\n",
    "        \n",
    "    def predict(self, X):\n",
    "        '''\n",
    "        Here X is a set of points. \n",
    "        RETURN : \n",
    "            y_predict : predicted labels for a set of points X\n",
    "        '''\n",
    "        y_predict = []\n",
    "        weighted_sum = 0\n",
    "        \n",
    "        for i in range(X.shape[0]):\n",
    "            for j in range(self.alpha.shape[0]):\n",
    "                kern_j = self.kernel(X[i], self.support_vector_x[j])\n",
    "                weighted_sum = weighted_sum + self.alpha[j]*self.support_vector_y[j]*kern_j \n",
    "            \n",
    "                if j == (self.alpha.shape[0]-1):\n",
    "                    pred_sign = np.sign(weighted_sum)\n",
    "                    y_predict.append(pred_sign)\n",
    "                    weighted_sum = 0\n",
    "               \n",
    "                    \n",
    "        np.asarray(y_predict)            \n",
    "        return(y_predict)\n"
   ]
  },
  {
   "cell_type": "markdown",
   "metadata": {},
   "source": [
    "##  Solving a new classification problem using SVM"
   ]
  },
  {
   "cell_type": "markdown",
   "metadata": {},
   "source": [
    "We are using the IRIS Dataset for this classification task. We have created a binary classification problem to determine whether a given flower is a setosa or not. To create this, we pre-processed the labels to create a label vector where setosa’s label is unchanged (i.e. its label is 1), but both versicolor and virginica are now labeled as -1. The data contains two out of the four attributes, petal width and petal length.We are going to use this dataset to test our Kernel Perceptron\n",
    "<br>\n",
    "\n",
    "<img src=\"wide_iris.png\" alt=\"Drawing\" style=\"width: 600px;\"/>\n",
    "\n",
    "<br>"
   ]
  },
  {
   "cell_type": "code",
   "execution_count": 13,
   "metadata": {},
   "outputs": [
    {
     "data": {
      "text/plain": [
       "(135, 2)"
      ]
     },
     "execution_count": 13,
     "metadata": {},
     "output_type": "execute_result"
    }
   ],
   "source": [
    "from scipy.io import loadmat\n",
    "class Data:\n",
    "    def __init__(self):\n",
    "        ff = lambda x,y : loadmat(x)[y]\n",
    "        \n",
    "        self.X_train = ff(\"data/iris_3/train_data.mat\", \"train_data\")\n",
    "        self.y_train = ff(\"data/iris_3/train_labels.mat\", \"train_labels\").flatten()\n",
    "        \n",
    "        self.X_test = ff(\"data/iris_3/test_data.mat\", \"test_data\")\n",
    "        self.y_test = ff(\"data/iris_3/test_labels.mat\", \"test_labels\").flatten()\n",
    "        \n",
    "data = Data()\n",
    "data.X_train.shape"
   ]
  },
  {
   "cell_type": "markdown",
   "metadata": {},
   "source": [
    "**C:** Report the test error as a percentage for each kernel function for `Niter = 20`"
   ]
  },
  {
   "cell_type": "code",
   "execution_count": 14,
   "metadata": {},
   "outputs": [
    {
     "name": "stdout",
     "output_type": "stream",
     "text": [
      "Error for linear kernel is: 0.4\n",
      "\n",
      "Error for polynomial kernel is: 0.06666666666666665\n",
      "\n",
      "Error for Gaussian kernel is: 0.06666666666666665\n"
     ]
    }
   ],
   "source": [
    "from sklearn.metrics import accuracy_score\n",
    "\n",
    "\n",
    "def get_acc(kernel, iters=20):\n",
    "    kernel_perceptron = KernelPerceptron(kernel=kernel, Niter=iters)\n",
    "    kernel_perceptron.fit(data.X_train, data.y_train)\n",
    "    predictions = kernel_perceptron.predict(data.X_test)\n",
    "    accuracy = accuracy_score(data.y_test, predictions)\n",
    "    return(accuracy)\n",
    "\n",
    "\n",
    "print(\"Error for linear kernel is:\", 1-get_acc(kernel=linear_kernel))\n",
    "print(\"\\nError for polynomial kernel is:\", 1-get_acc(kernel=polynomial_kernel))\n",
    "print(\"\\nError for Gaussian kernel is:\", 1-get_acc(kernel=gaussian_kernel))\n"
   ]
  },
  {
   "cell_type": "markdown",
   "metadata": {},
   "source": [
    "**Expected Output**: \n",
    "\n",
    "<table> \n",
    "    <tr>\n",
    "    <td>\n",
    "    **Linear Kernel**\n",
    "    </td>\n",
    "     <td>\n",
    "    40 %\n",
    "    </td>\n",
    "    </tr>\n",
    "      <tr>\n",
    "    <td>\n",
    "    **Polynomial Kernel**\n",
    "    </td>\n",
    "     <td>\n",
    "    6.67 %\n",
    "    </td>\n",
    "    </tr>\n",
    "      <tr>\n",
    "    <td>\n",
    "    **Gaussian Kernel**\n",
    "    </td>\n",
    "     <td>\n",
    "    6.67 %\n",
    "    </td>\n",
    "    </tr>\n",
    "\n",
    "</table> "
   ]
  },
  {
   "cell_type": "code",
   "execution_count": null,
   "metadata": {},
   "outputs": [],
   "source": []
  }
 ],
 "metadata": {
  "kernelspec": {
   "display_name": "Python 3",
   "language": "python",
   "name": "python3"
  },
  "language_info": {
   "codemirror_mode": {
    "name": "ipython",
    "version": 3
   },
   "file_extension": ".py",
   "mimetype": "text/x-python",
   "name": "python",
   "nbconvert_exporter": "python",
   "pygments_lexer": "ipython3",
   "version": "3.7.3"
  }
 },
 "nbformat": 4,
 "nbformat_minor": 4
}
