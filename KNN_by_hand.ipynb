{
 "cells": [
  {
   "cell_type": "markdown",
   "metadata": {},
   "source": [
    "# Problem Set 1 - KNN\n",
    "## CSCI 5622 - Spring 2020\n",
    "\n",
    "For today's assignment, we will be implementing our own K-Nearest Neighbors (KNN) algorithm.\n",
    "\n",
    "*But Professor Quigley, hasn't someone else already written KNN before?*\n",
    "\n",
    "Yes, you are not the first to implement KNN, or basically any algorithm we'll work with in this class. But 1) I'll know that you know what's really going on, and 2) you'll know you can do it, because 2a) someday you might have to implement some machine learning algorithm from scratch - maybe for a new platform (do you need to run python on your SmartToaster just to get it to learn how users like their toast?), maybe because you want to tweak the algorithm (there's always a better approach...), or maybe because you're working on something important and you need to control exactly what's on there (should you really be running anaconda on your secret spy plane?).\n",
    "\n",
    "That said - we're not going to implement *everything*. We'll start by importing a few helper functions"
   ]
  },
  {
   "cell_type": "code",
   "execution_count": 1,
   "metadata": {},
   "outputs": [],
   "source": [
    "import numpy as np\n",
    "import matplotlib.pyplot as plt\n",
    "import sklearn\n",
    "import sklearn.datasets"
   ]
  },
  {
   "cell_type": "markdown",
   "metadata": {},
   "source": [
    "*Wait a minute - didn't we just import Scikit-learn (sklearn)? The package with baked-in machine learning tools?*\n",
    "\n",
    "Yes - but it also has a ton of helper functions, including a dataset we'll be using later. But, for now, let's set up a KNNClassifier class."
   ]
  },
  {
   "cell_type": "code",
   "execution_count": 2,
   "metadata": {},
   "outputs": [],
   "source": [
    "import sklearn.neighbors\n",
    "\n",
    "class KNNClassifier:\n",
    "    \n",
    "    def __init__(self, X, y, k = 5):\n",
    "        \"\"\"\n",
    "        Initialize our custom KNN classifier\n",
    "        PARAMETERS\n",
    "        X - our training data features\n",
    "        y - our training data answers\n",
    "        k - the number of nearest neighbors to consider for classification\n",
    "        \"\"\"\n",
    "        self._model = sklearn.neighbors.BallTree(X)\n",
    "        self._y = y\n",
    "        self._k = k\n",
    "        self._counts = self.getCounts()\n",
    "        self._X = X\n",
    "        \n",
    "    def getCounts(self):\n",
    "        \"\"\"\n",
    "        Creates a dictionary storing the counts of each answer class found in y\n",
    "        RETURNS\n",
    "        counts - a dictionary of counts of answer classes\n",
    "        \"\"\"\n",
    "        #counts = dict({1:0,-1:0})\n",
    "        #BEGIN Workspace 1.1\n",
    "        #TODO: Modify and/or add to counts so that it returns a count of each answer class found in y\n",
    "    \n",
    "        unique, freq = np.unique(self._y, return_counts=True)\n",
    "        counts = dict(zip(unique, freq))\n",
    "        \n",
    "        #END Workspace 1.1\n",
    "        return(counts)\n",
    "    \n",
    "    def majority(self, indices):\n",
    "        \"\"\"\n",
    "        Given indices, report the majority label of those points.\n",
    "        For a tie, report the most common label in the data set.\n",
    "        PARAMETERS\n",
    "        indices - an np.array, where each element is an index of a neighbor\n",
    "        RETURNS\n",
    "        label - the majority label of our neighbors\n",
    "        \"\"\"\n",
    "        label = 0\n",
    "        #BEGIN Workspace 1.2\n",
    "        #TODO: Determine majority, assign it to label\n",
    "        label_list = []\n",
    "        \n",
    "        for num in np.nditer(indices):\n",
    "            label_list.append(self._y.reshape(1,-1)[0,num])    #reshape and get labels from our data\n",
    "            \n",
    "            \n",
    "        unique_2, freq_2 = np.unique(np.asarray(label_list), return_counts=True)\n",
    "        label_dict = dict(zip(unique_2, freq_2)) \n",
    "        vals=list(label_dict.values())\n",
    "        maxval = max(vals)\n",
    "        max_list = [key for key in label_dict.keys() if label_dict[key] == maxval]\n",
    "        \n",
    "        if len(max_list) == 1:\n",
    "            label =  max_list[0]\n",
    "        else:\n",
    "            unique_3, freq_3 = np.unique(self._y, return_counts=True)\n",
    "            counts_3 = dict(zip(unique_3, freq_3))\n",
    "            v=list(counts_3.values())\n",
    "            k=list(counts_3.keys())\n",
    "            label = k[v.index(max(v))]\n",
    "        #END Workspace 1.2\n",
    "        return(label)\n",
    "    \n",
    "    def classify(self, point):\n",
    "        \"\"\"\n",
    "        Given a new data point, classify it according to the training data X and our number of neighbors k into the appropriate class in our training answers y\n",
    "        PARAMETERS\n",
    "        point - a feature vector of our test point\n",
    "        RETURNS\n",
    "        ans - our predicted classification\n",
    "        \"\"\"\n",
    "        ans = 0\n",
    "        #BEGIN Workspace 1.3\n",
    "        #TODO: perform classification of point here\n",
    "        dist, pt_index = self._model.query(point.reshape(1,-1), self._k)        \n",
    "        ans = self.majority(pt_index)\n",
    "        #HINT: use the majority function created above\n",
    "        #HINT: use the euclidian distance discussed in lecture to find nearest neighbors\n",
    "        #END Workspace 1.3\n",
    "        return(ans)\n",
    "    \n",
    "    def confusionMatrix(self, testX, testY):\n",
    "        \"\"\"\n",
    "        Generate a confusion matrix for the given test set\n",
    "        PARAMETERS\n",
    "        testX - an np.array of feature vectors of test points\n",
    "        testY - the corresponding correct classifications of our test set\n",
    "        RETURN\n",
    "        C - an N*N np.array of counts, where N is the number of classes in our classifier\n",
    "        \"\"\"\n",
    "        #C = np.array([])\n",
    "        #BEGIN Workspace 1.4\n",
    "        N = len(np.unique(self._y, return_counts=False))\n",
    "        ind = np.unique(self._y)\n",
    "        C = np.array(np.zeros(shape=(N,N)))\n",
    "        \n",
    "    \n",
    "        pred = []                         #get predictions for test set\n",
    "        for pt in np.arange(len(testX)):\n",
    "            pred.append(self.classify(testX[pt]))\n",
    "        pred_array = np.array([pred])\n",
    "        \n",
    "        \n",
    "        #pred_test = zip(testY, pred_array)\n",
    "\n",
    "        list1=[]\n",
    "        list2=[]\n",
    "\n",
    "        for item in np.nditer(pred_array):\n",
    "            list1.append(np.where(item == ind)[0][0])      #appends index for predictions\n",
    "\n",
    "        for item2 in np.nditer(testY):\n",
    "            list2.append(np.where(item2 == ind)[0][0])      #appends index for test\n",
    "\n",
    "        pred_test = zip(list1,list2)\n",
    "\n",
    "        for item3, item4 in pred_test:                  #adds one at specifiec index   \n",
    "            C[item3][item4] += 1\n",
    "\n",
    "        #TODO: Run classification for the test set, compare to test answers, and add counts to matrix\n",
    "        #END Workspace 1.4\n",
    "        return(C)\n",
    "    \n",
    "    def accuracy(self, C):\n",
    "        \"\"\"\n",
    "        Generate an accuracy score for the classifier based on the confusion matrix\n",
    "        PARAMETERS\n",
    "        C - an np.array of counts\n",
    "        RETURN\n",
    "        score - an accuracy score\n",
    "        \"\"\"\n",
    "        score = np.sum(C.diagonal()) / C.sum()\n",
    "        return(score)"
   ]
  },
  {
   "cell_type": "markdown",
   "metadata": {},
   "source": [
    "*But professor, this code isn't complete!*\n",
    "\n",
    "### Problem 1: Complete our KNN Classifier - 40 Points (10 each)\n",
    "\n",
    "1.1 - Complete the getCounts function to return the count of each class found in the training set\n",
    "\n",
    "1.2 - Complete the majority function to determine the majority class of a series of neighbors\n",
    "\n",
    "1.3 - Complete the classify function to capture the predicted class of a new datapoint\n",
    "\n",
    " - HINT: Use the BallTree documentation to determine how to retrieve neighbors from the model (https://scikit-learn.org/stable/modules/generated/sklearn.neighbors.BallTree.html#sklearn.neighbors.BallTree)\n",
    "\n",
    "1.4 - Complete the confusionMatrix function to reveal the results of classification\n",
    "\n",
    "You can take a look at the unit tests below to see how we create data to input into our classifier, what kinds of things we expect as output, etc. You should also consider expanding the test cases to make sure your classifier is working correctly.\n"
   ]
  },
  {
   "cell_type": "code",
   "execution_count": 3,
   "metadata": {},
   "outputs": [
    {
     "name": "stderr",
     "output_type": "stream",
     "text": [
      "..\n",
      "----------------------------------------------------------------------\n",
      "Ran 2 tests in 0.003s\n",
      "\n",
      "OK\n"
     ]
    },
    {
     "data": {
      "text/plain": [
       "<unittest.runner.TextTestResult run=2 errors=0 failures=0>"
      ]
     },
     "execution_count": 3,
     "metadata": {},
     "output_type": "execute_result"
    }
   ],
   "source": [
    "import unittest\n",
    "\n",
    "class KNNTester(unittest.TestCase):\n",
    "    def setUp(self):\n",
    "        self.x = np.array([[3,1],[2,8], [2,7], [5,2],[3,2],[8,2],[2,4]])\n",
    "        self.y = np.array([[1, -1, -1, 1, -1, 1, -1]])\n",
    "        self.knnfive = KNNClassifier(self.x, self.y)\n",
    "        self.knnthree = KNNClassifier(self.x, self.y, 3)\n",
    "        self.knnone = KNNClassifier(self.x, self.y, 1)\n",
    "        \n",
    "        self.testPoints = np.array([[2,1], [2,6], [4, 4]])\n",
    "        \n",
    "    def testCounter(self):\n",
    "        \"\"\"\n",
    "        Test getCounts function from knnclassifier\n",
    "        \"\"\"\n",
    "        self.assertEqual(self.knnfive._counts[1], 3)\n",
    "        self.assertEqual(self.knnfive._counts[-1], 4)\n",
    "        \n",
    "    def testKNNOne(self):\n",
    "        \"\"\"\n",
    "        Test if the classifier returns \"correct\" (expected) classifications for k = 1\n",
    "        \"\"\"\n",
    "        self.assertEqual(self.knnone.classify(self.testPoints[0]), 1)\n",
    "        #BEGIN Workspace\n",
    "        #Add more tests as desired\n",
    "        #END Workspace\n",
    "    \n",
    "    #BEGIN Workspace\n",
    "    #Add more test functions as desired\n",
    "    #def testmajority(self):\n",
    "       # ind1 = np.array([[0]])\n",
    "        #ind3 = np.array([[0,2]])\n",
    "        #ind3 = np.array([[0,2,5]])\n",
    "        #self.assertEqual(self.knnfive.majority(ind1))\n",
    "    #HINT - You'll want to make sure each of your functions from the KNNClassifier class you created work correctly...\n",
    "    #END Workspace\n",
    "    \n",
    "tests = KNNTester()\n",
    "myTests = unittest.TestLoader().loadTestsFromModule(tests)\n",
    "unittest.TextTestRunner().run(myTests)"
   ]
  },
  {
   "cell_type": "markdown",
   "metadata": {},
   "source": [
    "OK - now we've demonstrated that our KNN classifier works, let's think about our problem space! \n",
    "\n",
    "## Our Dataset - Identifying Digits from Images\n",
    "\n",
    "It's a pretty common problem - just imagine working at the post office, or at a bank, and you're handed a hand-written envelope, or check, or other piece of information and you have to identify exactly what it says. Did they pay 500 or 600 dollars? Is the letter going to 80309 (campus) or 30309 (Atlanta)?\n",
    "\n",
    "Let's be a little smart about this - let's up some classes and helper functions to help us out.\n",
    "\n",
    "### Problem 2: Implement KNN on Digits dataset - 30 Points\n",
    "\n",
    "2.1 Randomly divide our Digits dataset into training and testing sets (15 Points)\n",
    "\n",
    "2.2 Report the number of examples in training and testing, as well as measuring then number of pixels in each image (5 points)\n",
    "\n",
    "2.3 Create a confusion matrix of our classifier for K = 5 (10 points) *HINT: Doing this may cause you to catch mistakes in your classifier. Go fix those!*"
   ]
  },
  {
   "cell_type": "code",
   "execution_count": 33,
   "metadata": {},
   "outputs": [],
   "source": [
    "\n",
    "class Numbers:\n",
    "    def __init__(self):\n",
    "        #load data from sklearn\n",
    "        digits = sklearn.datasets.load_digits()\n",
    "        np.random.seed(42)\n",
    "        #BEGIN Workspace 2.1\n",
    "        self.train_x = np.array([]) # A 2D np.array of training examples, REPLACE\n",
    "        self.train_y = np.array([]) # A 1D np.array of training answers, REPLACE\n",
    "        self.test_x = np.array([]) # A 2D np.array of testing examples, REPLACE\n",
    "        self.test_y = np.array([]) # A 1D np.array of testing answers, REPLACE\n",
    "        #TODO: Divide our dataset into Train and Test datasets (80/20 split), replacing the variables above\n",
    "        train = np.array(digits['data'])\n",
    "        target = np.array(digits['target'])\n",
    "\n",
    "        rand_nums = np.random.randint(low=0, high=len(train), size=len(train))\n",
    "        #train_len = int(round(len(train)*0.8))\n",
    "        train_len = int(round(len(rand_nums)*0.8,0))\n",
    "        self.train_x = train[rand_nums[:train_len]]\n",
    "        self.test_x = train[rand_nums[train_len:]]\n",
    "        self.train_y = target[rand_nums[:train_len]]\n",
    "        self.test_y = target[rand_nums[train_len:]]\n",
    "        #END Workspace 2.1\n",
    "      \n",
    "    def report(self):\n",
    "        \"\"\"\n",
    "        Report information about the dataset using the print() function\n",
    "        \"\"\"\n",
    "        #BEGIN Workspace 2.2\n",
    "        #TODO: Create printouts for reporting the size of each set and the size of each datapoint\n",
    "        print(\"Size of training examples:\", len(self.train_x))\n",
    "        print(\"Size of training answers:\", len(self.train_y))\n",
    "        print(\"Size of testing set examples:\", len(self.test_x))\n",
    "        print(\"Size of testing set answers:\", len(self.test_y))\n",
    "        print(\"Number of pixels in each image:\", self.test_x[0].shape[0] )\n",
    "        #END Workspace 2.2\n",
    "        \n",
    "\n",
    "    def classify(self):\n",
    "        \"\"\"\n",
    "        Create a classifier using the training data and generate a confusion matrix for the test data\n",
    "        \"\"\"\n",
    "        #BEGIN Workspace 2.3\n",
    "        #TODO: Create classifier from training data, generate confusion matrix for test data\n",
    "        knn5_digits = KNNClassifier(self.train_x, self.train_y, k=5)\n",
    "        conf_matrix = knn5_digits.confusionMatrix(self.test_x,self.test_y)\n",
    "        return(conf_matrix)\n",
    "        #END Workspace 2.3\n",
    "        \n",
    "    def viewDigit(self, digitImage):\n",
    "        \"\"\"\n",
    "        Display an image of a digit\n",
    "        PARAMETERS\n",
    "        digitImage - a data object from the dataset\n",
    "        \"\"\"\n",
    "        plt.gray()\n",
    "        plt.matshow(digitImage)\n",
    "        plt.show()\n",
    "        \n",
    "        "
   ]
  },
  {
   "cell_type": "code",
   "execution_count": 34,
   "metadata": {},
   "outputs": [
    {
     "data": {
      "text/plain": [
       "array([[29.,  0.,  0.,  0.,  0.,  0.,  0.,  0.,  0.,  0.],\n",
       "       [ 0., 45.,  0.,  0.,  0.,  0.,  0.,  0.,  2.,  0.],\n",
       "       [ 0.,  0., 35.,  0.,  0.,  0.,  0.,  0.,  0.,  0.],\n",
       "       [ 0.,  0.,  0., 27.,  0.,  0.,  0.,  0.,  0.,  0.],\n",
       "       [ 0.,  0.,  0.,  0., 35.,  0.,  0.,  0.,  0.,  0.],\n",
       "       [ 0.,  0.,  0.,  0.,  0., 33.,  0.,  0.,  0.,  0.],\n",
       "       [ 0.,  0.,  0.,  0.,  0.,  0., 41.,  0.,  0.,  0.],\n",
       "       [ 0.,  0.,  0.,  0.,  0.,  0.,  0., 34.,  0.,  0.],\n",
       "       [ 0.,  0.,  0.,  0.,  0.,  0.,  0.,  0., 43.,  0.],\n",
       "       [ 0.,  0.,  0.,  0.,  0.,  1.,  0.,  0.,  0., 34.]])"
      ]
     },
     "execution_count": 34,
     "metadata": {},
     "output_type": "execute_result"
    }
   ],
   "source": [
    "num = Numbers()\n",
    "num_conf = num.classify()\n",
    "num_conf"
   ]
  },
  {
   "cell_type": "markdown",
   "metadata": {},
   "source": [
    "*Wow, I can't believe we just created a KNN Classifier - but can't we make it better?*\n",
    "\n",
    "Yes, we saw above that our classifier didn't work perfectly. Let's explore that issue a little further\n",
    "\n",
    "### Problem 3: Improving KNN on Digits - 30 Points\n",
    "\n",
    "3.1 Determine which classes are most often confused (from our confusion matrix above), inspect some examples of these digits (using the viewDigit function in our Numbers class), and write a brief (4 - 5 sentences) description of why you think these particular numbers may be misclassified.\n",
    "\n",
    "3.2 Explore the influence of the number of nearest neighbors (i.e. try changing our K). Plot the relationship between K and accuracy, and write a brief (4 - 5 sentences) description of how this factor impacts our accuracy.\n",
    "\n",
    "3.3 (Bonus) Explore the influence of the train / test split of our data (i.e. copy our Numbers class into Numbers2 below and try changing the split for our dataset). Plot the relationship between the split % and accuracy, and write a brief (4 - 5 sentences) description of its impact."
   ]
  },
  {
   "cell_type": "code",
   "execution_count": 35,
   "metadata": {},
   "outputs": [
    {
     "name": "stdout",
     "output_type": "stream",
     "text": [
      "1 confused for 8 ( 2 time(s))\n"
     ]
    },
    {
     "data": {
      "text/plain": [
       "<Figure size 432x288 with 0 Axes>"
      ]
     },
     "metadata": {},
     "output_type": "display_data"
    },
    {
     "data": {
      "image/png": "[encoded data removed]",
      "text/plain": [
       "<Figure size 288x288 with 1 Axes>"
      ]
     },
     "metadata": {
      "needs_background": "light"
     },
     "output_type": "display_data"
    },
    {
     "data": {
      "text/plain": [
       "<Figure size 432x288 with 0 Axes>"
      ]
     },
     "metadata": {},
     "output_type": "display_data"
    },
    {
     "data": {
      "image/png": "[encoded data removed]",
      "text/plain": [
       "<Figure size 288x288 with 1 Axes>"
      ]
     },
     "metadata": {
      "needs_background": "light"
     },
     "output_type": "display_data"
    },
    {
     "name": "stdout",
     "output_type": "stream",
     "text": [
      "9 confused for 5 ( 1 time(s))\n"
     ]
    },
    {
     "data": {
      "text/plain": [
       "<Figure size 432x288 with 0 Axes>"
      ]
     },
     "metadata": {},
     "output_type": "display_data"
    },
    {
     "data": {
      "image/png": "[encoded data removed]",
      "text/plain": [
       "<Figure size 288x288 with 1 Axes>"
      ]
     },
     "metadata": {
      "needs_background": "light"
     },
     "output_type": "display_data"
    },
    {
     "data": {
      "text/plain": [
       "<Figure size 432x288 with 0 Axes>"
      ]
     },
     "metadata": {},
     "output_type": "display_data"
    },
    {
     "data": {
      "image/png": "[encoded data removed]",
      "text/plain": [
       "<Figure size 288x288 with 1 Axes>"
      ]
     },
     "metadata": {
      "needs_background": "light"
     },
     "output_type": "display_data"
    }
   ],
   "source": [
    "#BEGIN 3.1a\n",
    "#TODO: Print out problem class images\n",
    "digits = sklearn.datasets.load_digits()\n",
    "\n",
    "size = len(num_conf)\n",
    "\n",
    "for i in np.arange(size):\n",
    "    for j in np.arange(size):\n",
    "        if i!=j:\n",
    "            if num_conf[i][j] >= 1:\n",
    "                print(i, \"confused for\", j,\"(\", int(num_conf[i][j]),\"time(s))\")\n",
    "                num.viewDigit(digits['images'][i])\n",
    "                num.viewDigit(digits['images'][j])        \n",
    "#END 3.1a"
   ]
  },
  {
   "cell_type": "markdown",
   "metadata": {},
   "source": [
    "#### 3.1b\n",
    "TODO: Write description of misclassification\n",
    "\n",
    "I think the main cause for numbers being missclasified are the similarities in features between the numbers. For example, in my most recent run (since I left the random seed out) 8 was classified as 9 two times. This can be due the similar ring structures at the top of the number and the \"tail\" of 9 almost looks like a ring that would form an 8. The 9 would only need 2 more pixel locations to be populated with values in order to look like an \"8\". We can extend this concept to other features like 1 and 7 because both have very similar shapes but a \"7\" can be interpreted as a \"slanted 1\"."
   ]
  },
  {
   "cell_type": "code",
   "execution_count": 7,
   "metadata": {},
   "outputs": [],
   "source": [
    "class Numbers2:\n",
    "    def __init__(self, trainPercentage):\n",
    "        #load data from sklearn\n",
    "        digits = sklearn.datasets.load_digits()\n",
    "        np.random.seed(42)\n",
    "        #BEGIN Workspace 3.3a\n",
    "        self.train_x = np.array([]) # A 2D np.array of training examples, REPLACE\n",
    "        self.train_y = np.array([]) # A 1D np.array of training answers, REPLACE\n",
    "        self.test_x = np.array([]) # A 2D np.array of testing examples, REPLACE\n",
    "        self.test_y = np.array([]) # A 1D np.array of testing answers, REPLACE\n",
    "        #TODO: Divide our dataset into Train and Test datasets (using trainPercentage), replacing the variables above\n",
    "        #HINT: You should be able to mostly copy your own work from the original Numbers class\n",
    "        train = np.array(digits['data'])\n",
    "        target = np.array(digits['target'])\n",
    "\n",
    "        rand_nums = np.random.randint(low=0, high=len(train), size=len(train))\n",
    "        #train_len = int(round(len(train)*trainPercentage))\n",
    "        train_len = int(round(len(rand_nums)*trainPercentage,0))\n",
    "        self.train_x = train[rand_nums[:train_len]]\n",
    "        self.test_x = train[rand_nums[train_len:]]\n",
    "        self.train_y = target[rand_nums[:train_len]]\n",
    "        self.test_y = target[rand_nums[train_len:]]\n",
    "        #END Workspace 3.3a\n",
    "\n",
    "    def classify(self, k):\n",
    "        \"\"\"\n",
    "        Create a classifier using the training data and generate a confusion matrix for the test data\n",
    "        \"\"\"\n",
    "        #BEGIN Workspace 3.2a\n",
    "        #TODO: Create classifier from training data (using k nearest neighbors), generate confusion matrix for test data\n",
    "        knnx_digits = KNNClassifier(self.train_x, self.train_y, k)\n",
    "        conf_matrix = knnx_digits.confusionMatrix(self.test_x,self.test_y)\n",
    "        return(conf_matrix)\n",
    "        #HINT: You can copy your own work from the original Numbers class\n",
    "        #END Workspace 3.2a\n",
    "        \n",
    "    def viewDigit(digitImage):\n",
    "        \"\"\"\n",
    "        Display an image of a digit\n",
    "        PARAMETERS\n",
    "        digitImage - a data object from the dataset\n",
    "        \"\"\"\n",
    "        plt.gray()\n",
    "        plt.matshow(digitImage)\n",
    "        plt.show()"
   ]
  },
  {
   "cell_type": "code",
   "execution_count": 8,
   "metadata": {},
   "outputs": [
    {
     "name": "stdout",
     "output_type": "stream",
     "text": [
      "[0.99721, 0.98607, 0.98886, 0.98607, 0.99164, 0.98886, 0.98886, 0.9805, 0.961, 0.96379, 0.95265, 0.93315]\n"
     ]
    },
    {
     "data": {
      "text/plain": [
       "Text(0, 0.5, 'Accuracy')"
      ]
     },
     "execution_count": 8,
     "metadata": {},
     "output_type": "execute_result"
    },
    {
     "data": {
      "image/png": "[encoded data removed]",
      "text/plain": [
       "<Figure size 432x288 with 1 Axes>"
      ]
     },
     "metadata": {
      "needs_background": "light"
     },
     "output_type": "display_data"
    }
   ],
   "source": [
    "nn = [1,2,3,4,5,6,7,10,15,20,30,50]\n",
    "num2 = Numbers2(0.8)\n",
    "acc_nn = []\n",
    "for item in nn:\n",
    "    item_conf = num2.classify(item)\n",
    "    score_nn = round(np.sum(item_conf.diagonal()) / item_conf.sum(),5)\n",
    "    acc_nn.append(score_nn)\n",
    "\n",
    "print(acc_nn)\n",
    "plt.plot(nn, acc_nn)\n",
    "plt.title(\"Effect of 'k' Neighbors on Accuracy\")\n",
    "plt.xlabel(\"Number of Neighbors (k)\")\n",
    "plt.ylabel(\"Accuracy\")\n"
   ]
  },
  {
   "cell_type": "markdown",
   "metadata": {},
   "source": [
    "#### 3.2b\n",
    "TODO: Write description of influence of neighbor count\n",
    "In general it looks like the model is most accurate at lower neighbor counts (k) and decreases as k increases. This could be due to the fact that as k increases we are considering too many numbers that may look similar but are not that of the point we are testing. For example, if we are looking at the number 5 and are considering k=5 neighbors, we are most likely looking at neighbors that are in fact 5. However, when we increase the number to k=50, we may be looking at a lot of 5's but we may also be looking at a lof of 9's and 2's. In this case we would say the model is underfitting to the data."
   ]
  },
  {
   "cell_type": "code",
   "execution_count": 9,
   "metadata": {},
   "outputs": [
    {
     "data": {
      "text/plain": [
       "Text(0, 0.5, 'Accuracy')"
      ]
     },
     "execution_count": 9,
     "metadata": {},
     "output_type": "execute_result"
    },
    {
     "data": {
      "image/png": "[encoded data removed]",
      "text/plain": [
       "<Figure size 432x288 with 1 Axes>"
      ]
     },
     "metadata": {
      "needs_background": "light"
     },
     "output_type": "display_data"
    }
   ],
   "source": [
    "train_pcts = [0.05, 0.1, 0.2, 0.4, 0.6, 0.8, 0.9, 0.95]\n",
    "acc_train = []\n",
    "\n",
    "for item2 in train_pcts:\n",
    "    num3 = Numbers2(item2)\n",
    "    score_trains = np.sum(num3.classify(5).diagonal()) / num3.classify(5).sum()\n",
    "    acc_train.append(score_trains)\n",
    "    \n",
    "plt.plot(train_pcts, acc_train)\n",
    "plt.xlabel(\"Percentage of Data for Training\")\n",
    "plt.ylabel(\"Accuracy\")"
   ]
  },
  {
   "cell_type": "markdown",
   "metadata": {},
   "source": [
    "#### 3.3b\n",
    "TODO: Write description of influence of training / testing split\n",
    "From the chart, we can see the accuracy increases drastically for low percentages of training data. However, this effect plateaus as the percentage of data used for training approaches higher values (>90%). This is likely due to the fact that as we increase our sample size we are given the opportunity to introduce more neighbors that could be closer to the point we are trying to estimate. As we reach a certain threshold, the training data will already have neighbors that are closest to the point we are trying to estimate, thus giving us a diminishing return on accuracy."
   ]
  }
 ],
 "metadata": {
  "kernelspec": {
   "display_name": "Python 3",
   "language": "python",
   "name": "python3"
  },
  "language_info": {
   "codemirror_mode": {
    "name": "ipython",
    "version": 3
   },
   "file_extension": ".py",
   "mimetype": "text/x-python",
   "name": "python",
   "nbconvert_exporter": "python",
   "pygments_lexer": "ipython3",
   "version": "3.7.3"
  }
 },
 "nbformat": 4,
 "nbformat_minor": 4
}
